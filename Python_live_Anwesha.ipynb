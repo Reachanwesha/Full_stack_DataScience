{
 "cells": [
  {
   "cell_type": "markdown",
   "id": "d48da9d1-f637-495e-857b-be5996798154",
   "metadata": {},
   "source": [
    "Static variables are shared among all instances of a class, while dynamic variables are specific to each instance."
   ]
  },
  {
   "cell_type": "code",
   "execution_count": 2,
   "id": "9f45ad04-81c8-46df-9a80-564d98aab554",
   "metadata": {},
   "outputs": [],
   "source": [
    "class Example:\n",
    "    static_var = 10\n",
    "    \n",
    "    def __init__(self, dynamic_var):\n",
    "        self.dynamic_var = dynamic_var\n"
   ]
  },
  {
   "cell_type": "code",
   "execution_count": 6,
   "id": "ae95fa8d-5a23-44f8-9bb9-c328fcf4dbfe",
   "metadata": {},
   "outputs": [
    {
     "name": "stdout",
     "output_type": "stream",
     "text": [
      "{'a': 1, 'c': 3}\n"
     ]
    }
   ],
   "source": [
    "#Purpose of \"pop\", \"popitem\", \"clear()\" in a dictionary\n",
    "#pop(key): Removes the item with the specified key and returns its value.\n",
    "\n",
    "my_dict = {'a': 1, 'b': 2, 'c': 3}\n",
    "value = my_dict.pop('b')  # Removes 'b': 2 from dictionary\n",
    "print(my_dict)"
   ]
  },
  {
   "cell_type": "code",
   "execution_count": 10,
   "id": "df228d7a-f78f-45c7-a67b-55c60ab738a9",
   "metadata": {},
   "outputs": [
    {
     "name": "stdout",
     "output_type": "stream",
     "text": [
      "{'a': 1, 'b': 2}\n"
     ]
    }
   ],
   "source": [
    "#popitem(): Removes and returns the last inserted item (key, value) as a tuple.\n",
    "\n",
    "my_dict = {'a': 1, 'b': 2, 'c': 3}\n",
    "item = my_dict.popitem() \n",
    "print(my_dict)# Removes ('c', 3) from dictionary"
   ]
  },
  {
   "cell_type": "code",
   "execution_count": 12,
   "id": "0009170d-3aa0-46da-a07d-7ec38bd5874d",
   "metadata": {},
   "outputs": [
    {
     "name": "stdout",
     "output_type": "stream",
     "text": [
      "{}\n"
     ]
    }
   ],
   "source": [
    "#clear(): Removes all items from the dictionary.\n",
    "\n",
    "my_dict = {'a': 1, 'b': 2, 'c': 3}\n",
    "my_dict.clear()  # Now my_dict is {}\n",
    "print(my_dict)"
   ]
  },
  {
   "cell_type": "code",
   "execution_count": 14,
   "id": "f5f9a188-a239-4953-a3bb-b0d86cefadc4",
   "metadata": {},
   "outputs": [
    {
     "name": "stdout",
     "output_type": "stream",
     "text": [
      "frozenset({1, 2, 3, 4})\n"
     ]
    }
   ],
   "source": [
    "#FrozenSet is an immutable collection of unique elements, similar to a set but cannot be changed once created.\n",
    "my_frozenset = frozenset([1, 2, 3, 4])\n",
    "print(my_frozenset)"
   ]
  },
  {
   "cell_type": "code",
   "execution_count": 16,
   "id": "4599847c-22d0-4633-8f1e-280057e8ccfd",
   "metadata": {},
   "outputs": [
    {
     "name": "stdout",
     "output_type": "stream",
     "text": [
      "[1, 2, 3, 4]\n"
     ]
    }
   ],
   "source": [
    "#Mutable vs Immutable Data Types\n",
    "#Mutable: Objects whose state can be modified after creation (e.g., lists, dictionaries).\n",
    "#Immutable: Objects whose state cannot be modified after creation (e.g., integers, tuples).\n",
    "\n",
    "# Mutable example\n",
    "my_list = [1, 2, 3]\n",
    "my_list.append(4) \n",
    "print(my_list)# Modifies my_list\n",
    "\n",
    "# Immutable example\n",
    "my_tuple = (1, 2, 3)\n",
    "# my_tuple.append(4)  # This would cause an error"
   ]
  },
  {
   "cell_type": "code",
   "execution_count": 22,
   "id": "2eb6bd13-6c9b-4a97-970a-f4d101a4b024",
   "metadata": {},
   "outputs": [],
   "source": [
    "#__init__ is a special method in Python classes used for initializing object instances. It's called when an instance of the class is created.\n",
    "\n",
    "class Person:\n",
    "    def __init__(self, name):\n",
    "        self.name = name\n",
    "\n",
    "person1 = Person(\"Alice\")\n"
   ]
  },
  {
   "cell_type": "code",
   "execution_count": 24,
   "id": "1056f0ac-e0cb-4a8e-a718-0ad30cd15713",
   "metadata": {},
   "outputs": [],
   "source": [
    "#Docstring is a string literal placed in the source code to document a module, function, class, or method.\n",
    "\n",
    "def square(x):\n",
    "    \"\"\"Returns the square of a number.\"\"\"\n",
    "    return x ** 2"
   ]
  },
  {
   "cell_type": "code",
   "execution_count": 26,
   "id": "6f09b9f2-f6ec-4f9c-8c46-748b44db94d7",
   "metadata": {},
   "outputs": [],
   "source": [
    "#Unit tests are used to verify that small, isolated parts of a program (units) are working correctly.\n",
    "\n",
    "import unittest\n",
    "\n",
    "class MyTest(unittest.TestCase):\n",
    "    def test_addition(self):\n",
    "        self.assertEqual(1 + 1, 2)"
   ]
  },
  {
   "cell_type": "code",
   "execution_count": 28,
   "id": "16ca42e3-f175-4a59-af48-94e90c5dcbc3",
   "metadata": {},
   "outputs": [
    {
     "name": "stdout",
     "output_type": "stream",
     "text": [
      "0\n",
      "1\n",
      "2\n",
      "0\n",
      "1\n",
      "3\n",
      "4\n"
     ]
    }
   ],
   "source": [
    "#break, continue, and pass in Python\n",
    "#break: Terminates the loop.\n",
    "#continue: Skips the rest of the current iteration and moves to the next iteration.\n",
    "#pass: Placeholder that does nothing. Used when syntax requires a statement but you have nothing to write.\n",
    "# break example\n",
    "for i in range(5):\n",
    "    if i == 3:\n",
    "        break\n",
    "    print(i)  # Output: 0, 1, 2\n",
    "\n",
    "# continue example\n",
    "for i in range(5):\n",
    "    if i == 2:\n",
    "        continue\n",
    "    print(i)  # Output: 0, 1, 3, 4\n",
    "\n",
    "# pass example (typically used as a placeholder)\n",
    "def placeholder_function():\n",
    "    pass  # Placeholder for future implementation\n",
    "\n",
    "class MyClass:\n",
    "    def some_method(self):\n",
    "        pass  # Placeholder method\n",
    "\n"
   ]
  },
  {
   "cell_type": "code",
   "execution_count": 30,
   "id": "324f08ec-3aeb-441d-8c2b-9dd536a2e204",
   "metadata": {},
   "outputs": [
    {
     "name": "stdout",
     "output_type": "stream",
     "text": [
      "Brand: Toyota\n"
     ]
    }
   ],
   "source": [
    "#8 self refers to the instance of the class itself. It allows you to access instance variables and methods within the class.\n",
    "class Car:\n",
    "    def __init__(self, brand):\n",
    "        self.brand = brand  # Instance variable\n",
    "    \n",
    "    def display_brand(self):\n",
    "        print(\"Brand:\", self.brand)\n",
    "\n",
    "car1 = Car(\"Toyota\")\n",
    "car1.display_brand()  # Output: Brand: Toyota\n"
   ]
  },
  {
   "cell_type": "code",
   "execution_count": 38,
   "id": "bfcce030-81f2-4824-9083-74df74101231",
   "metadata": {},
   "outputs": [
    {
     "name": "stdout",
     "output_type": "stream",
     "text": [
      "10\n"
     ]
    }
   ],
   "source": [
    "#Global, Protected, and Private Attributes in Python\n",
    "#Global: Variables defined outside functions or classes.\n",
    "#Protected: Conventionally marked with a single underscore (_varname). Accessible within the same package/module.\n",
    "#Private: Marked with double underscores (__varname). Name mangling makes it difficult to access outside the class.\n",
    "# Global variable\n",
    "global_var = 10\n",
    "\n",
    "class MyClass:\n",
    "    def __init__(self):\n",
    "        # Protected variable\n",
    "        self._protected_var = 20\n",
    "    \n",
    "    def _protected_method(self):\n",
    "        print(\"This is a protected method\")\n",
    "    \n",
    "    def __init__(self):\n",
    "        # Private variable\n",
    "        self.__private_var = 30\n",
    "    \n",
    "    def __private_method(self):\n",
    "        print(\"This is a private method\")\n",
    "\n",
    "# Accessing global variable\n",
    "print(global_var)  # Output: 10\n",
    "\n",
    "# Accessing protected variable\n",
    "obj = MyClass()\n",
    "#print(obj._protected_var)  # Output: 20\n",
    "\n",
    "# Attempting to access private variable (will cause NameError due to name mangling)\n",
    "#print(obj.__private_var)\n",
    "\n"
   ]
  },
  {
   "cell_type": "code",
   "execution_count": 50,
   "id": "9e32f672-d63b-4c90-aba6-67c176431efc",
   "metadata": {},
   "outputs": [
    {
     "ename": "ImportError",
     "evalue": "attempted relative import with no known parent package",
     "output_type": "error",
     "traceback": [
      "\u001b[0;31m---------------------------------------------------------------------------\u001b[0m",
      "\u001b[0;31mImportError\u001b[0m                               Traceback (most recent call last)",
      "Cell \u001b[0;32mIn[50], line 11\u001b[0m\n\u001b[1;32m      7\u001b[0m     \u001b[38;5;28mprint\u001b[39m(\u001b[38;5;124m\"\u001b[39m\u001b[38;5;124mHello, this is my module!\u001b[39m\u001b[38;5;124m\"\u001b[39m)\n\u001b[1;32m      9\u001b[0m \u001b[38;5;66;03m# Package example (my_package/__init__.py)\u001b[39;00m\n\u001b[1;32m     10\u001b[0m \u001b[38;5;66;03m# File: my_package/__init__.py\u001b[39;00m\n\u001b[0;32m---> 11\u001b[0m \u001b[38;5;28;01mfrom\u001b[39;00m \u001b[38;5;21;01m.\u001b[39;00m\u001b[38;5;21;01mmodule1\u001b[39;00m \u001b[38;5;28;01mimport\u001b[39;00m some_function\n\u001b[1;32m     12\u001b[0m \u001b[38;5;28;01mfrom\u001b[39;00m \u001b[38;5;21;01m.\u001b[39;00m\u001b[38;5;21;01mmodule2\u001b[39;00m \u001b[38;5;28;01mimport\u001b[39;00m another_function\n\u001b[1;32m     14\u001b[0m \u001b[38;5;66;03m# Usage in main script\u001b[39;00m\n",
      "\u001b[0;31mImportError\u001b[0m: attempted relative import with no known parent package"
     ]
    }
   ],
   "source": [
    "#Modules and Packages in Python\n",
    "#Module: A single file containing Python code.\n",
    "#Package: A collection of modules (directories with a special __init__.py file).\n",
    "# Module example (my_module.py)\n",
    "# File: my_module.py\n",
    "def greet():\n",
    "    print(\"Hello, this is my module!\")\n",
    "\n",
    "# Package example (my_package/__init__.py)\n",
    "# File: my_package/__init__.py\n",
    "from .module1 import some_function\n",
    "from .module2 import another_function\n",
    "\n",
    "# Usage in main script\n",
    "import my_module\n",
    "my_module.greet()  # Output: Hello, this is my module!\n",
    "\n"
   ]
  },
  {
   "cell_type": "code",
   "execution_count": 52,
   "id": "4d4acdff-a795-413b-a1ed-07ece351d137",
   "metadata": {},
   "outputs": [
    {
     "name": "stdout",
     "output_type": "stream",
     "text": [
      "[1, 2, 3, 4, 5]\n",
      "(1, 2, 3, 4)\n"
     ]
    }
   ],
   "source": [
    "#Lists: Mutable ordered collections of elements.\n",
    "#Tuples: Immutable ordered collections of elements.\n",
    "# Lists (mutable)\n",
    "my_list = [1, 2, 3, 4]\n",
    "my_list.append(5)  # Modify list\n",
    "print(my_list)  # Output: [1, 2, 3, 4, 5]\n",
    "\n",
    "# Tuples (immutable)\n",
    "my_tuple = (1, 2, 3, 4)\n",
    "# my_tuple.append(5)  # AttributeError: 'tuple' object has no attribute 'append'\n",
    "print(my_tuple)  # Output: (1, 2, 3, 4)\n"
   ]
  },
  {
   "cell_type": "code",
   "execution_count": 54,
   "id": "3effde3e-8aae-4b52-b50c-4146614ae343",
   "metadata": {},
   "outputs": [
    {
     "name": "stdout",
     "output_type": "stream",
     "text": [
      "Hello, world!\n",
      "10\n",
      "Hello\n"
     ]
    }
   ],
   "source": [
    "#Interpreted: Code is executed line by line at runtime.\n",
    "#Dynamically Typed: Type checking is performed at runtime rather than compile time.\n",
    "# Interpreted language example\n",
    "# Python executes code line by line at runtime\n",
    "print(\"Hello, world!\")\n",
    "\n",
    "# Dynamically typed language example\n",
    "x = 10\n",
    "print(x)  # Output: 10\n",
    "x = \"Hello\"\n",
    "print(x)  # Output: Hello\n"
   ]
  },
  {
   "cell_type": "code",
   "execution_count": 56,
   "id": "242eabaa-9403-487f-97fe-026f8b89abe4",
   "metadata": {},
   "outputs": [
    {
     "name": "stdout",
     "output_type": "stream",
     "text": [
      "{0: 0, 1: 1, 2: 4, 3: 9, 4: 16}\n",
      "[0, 2, 4, 6, 8]\n"
     ]
    }
   ],
   "source": [
    "#Dict Comprehension: Creates dictionaries from iterable objects.\n",
    "#List Comprehension: Creates lists from iterable objects.\n",
    "# Dict comprehension\n",
    "my_dict = {x: x**2 for x in range(5)}\n",
    "print(my_dict)  # Output: {0: 0, 1: 1, 2: 4, 3: 9, 4: 16}\n",
    "\n",
    "# List comprehension\n",
    "my_list = [x for x in range(10) if x % 2 == 0]\n",
    "print(my_list)  # Output: [0, 2, 4, 6, 8]\n"
   ]
  },
  {
   "cell_type": "code",
   "execution_count": 48,
   "id": "bdaa8e22-e723-4794-ad4b-d4efcac300ca",
   "metadata": {},
   "outputs": [],
   "source": [
    "#Decorators modify the behavior of functions or classes.\n",
    "\n",
    "def my_decorator(func):\n",
    "    def wrapper():\n",
    "        print(\"Something is happening before the function is called.\")\n",
    "        func()\n",
    "        print(\"Something is happening after the function is called.\")\n",
    "    return wrapper\n",
    "\n",
    "@my_decorator\n",
    "def say_hello():\n",
    "    print(\"Hello!\")"
   ]
  },
  {
   "cell_type": "code",
   "execution_count": 58,
   "id": "f37a997b-1cc7-4648-bf07-74dc42c85e65",
   "metadata": {},
   "outputs": [],
   "source": [
    "#16  Memory Management in Python\n",
    "#Automatic Garbage Collection: Python manages memory automatically through reference counting and a garbage collector.\n"
   ]
  },
  {
   "cell_type": "code",
   "execution_count": 66,
   "id": "95756bce-1636-4440-87fe-c17dc20e0cfb",
   "metadata": {},
   "outputs": [],
   "source": [
    "#Lambda Functions: Small anonymous functions defined with lambda keyword.\n",
    "\n",
    "square = lambda x: x ** 2\n"
   ]
  },
  {
   "cell_type": "code",
   "execution_count": 72,
   "id": "54a8a93c-7f76-42f5-a428-701284635f55",
   "metadata": {},
   "outputs": [
    {
     "name": "stdout",
     "output_type": "stream",
     "text": [
      "['Hello', 'world!']\n",
      "Hello world!\n"
     ]
    }
   ],
   "source": [
    "#split() and join() Functions in Python\n",
    "#split(): Splits a string into a list of substrings based on a delimiter.\n",
    "#join(): Joins elements of an iterable into a string with a delimiter.\n",
    "\n",
    "sentence = \"Hello, world!\"\n",
    "words = sentence.split(\", \")  # ['Hello', 'world!']\n",
    "print(words)\n",
    "new_sentence = ' '.join(words)  # 'Hello world!'\n",
    "print(new_sentence)"
   ]
  },
  {
   "cell_type": "code",
   "execution_count": 86,
   "id": "98f204d5-b8aa-4a7c-b2fa-c035bdc57b88",
   "metadata": {},
   "outputs": [
    {
     "name": "stdout",
     "output_type": "stream",
     "text": [
      "True\n"
     ]
    }
   ],
   "source": [
    "#Checking Class Inheritance\n",
    "#Use issubclass() to check if a class is a subclass of another class.\n",
    "class Vehicle:\n",
    "    pass\n",
    "\n",
    "class Car(Vehicle):\n",
    "    pass\n",
    "\n",
    "print(issubclass(Car, Vehicle))  # Output: True\n"
   ]
  },
  {
   "cell_type": "code",
   "execution_count": 76,
   "id": "c428af68-4774-4ef8-b55c-d7824733992b",
   "metadata": {},
   "outputs": [
    {
     "name": "stdout",
     "output_type": "stream",
     "text": [
      "Driving...\n"
     ]
    }
   ],
   "source": [
    "#encapsulation\n",
    "class Car:\n",
    "    def __init__(self, brand):\n",
    "        self.brand = brand\n",
    "        self.__fuel = 100  # Private attribute\n",
    "\n",
    "    def drive(self):\n",
    "        self.__fuel -= 10\n",
    "        print(\"Driving...\")\n",
    "\n",
    "car = Car(\"Toyota\")\n",
    "car.drive()\n"
   ]
  },
  {
   "cell_type": "code",
   "execution_count": 78,
   "id": "9f42b781-a773-4a46-bb7f-b7c38d61610a",
   "metadata": {},
   "outputs": [
    {
     "name": "stdout",
     "output_type": "stream",
     "text": [
      "Woof!\n"
     ]
    }
   ],
   "source": [
    "#inheritance\n",
    "class Animal:\n",
    "    def sound(self):\n",
    "        pass\n",
    "\n",
    "class Dog(Animal):\n",
    "    def sound(self):\n",
    "        print(\"Woof!\")\n",
    "\n",
    "dog = Dog()\n",
    "dog.sound()\n"
   ]
  },
  {
   "cell_type": "code",
   "execution_count": 80,
   "id": "2ee2da93-8ccf-4606-a620-2ea4d7f8ec21",
   "metadata": {},
   "outputs": [
    {
     "name": "stdout",
     "output_type": "stream",
     "text": [
      "Drawing Circle\n",
      "Drawing Rectangle\n"
     ]
    }
   ],
   "source": [
    "#polymorphism\n",
    "class Shape:\n",
    "    def draw(self):\n",
    "        pass\n",
    "\n",
    "class Circle(Shape):\n",
    "    def draw(self):\n",
    "        print(\"Drawing Circle\")\n",
    "\n",
    "class Rectangle(Shape):\n",
    "    def draw(self):\n",
    "        print(\"Drawing Rectangle\")\n",
    "\n",
    "def draw_shape(shape):\n",
    "    shape.draw()\n",
    "\n",
    "circle = Circle()\n",
    "rectangle = Rectangle()\n",
    "\n",
    "draw_shape(circle)\n",
    "draw_shape(rectangle)\n"
   ]
  },
  {
   "cell_type": "code",
   "execution_count": 84,
   "id": "16d33c03-4f4a-4831-8b3a-d386d4295f71",
   "metadata": {},
   "outputs": [
    {
     "name": "stdout",
     "output_type": "stream",
     "text": [
      "Drawing Circle\n"
     ]
    }
   ],
   "source": [
    "#abstraction\n",
    "from abc import ABC, abstractmethod\n",
    "\n",
    "class Shape(ABC):\n",
    "    @abstractmethod\n",
    "    def draw(self):\n",
    "        pass\n",
    "\n",
    "class Circle(Shape):\n",
    "    def draw(self):\n",
    "        print(\"Drawing Circle\")\n",
    "\n",
    "circle = Circle()\n",
    "circle.draw()\n"
   ]
  },
  {
   "cell_type": "code",
   "execution_count": 88,
   "id": "55fbc136-13c9-439d-b8c8-d208b00e1eaa",
   "metadata": {},
   "outputs": [],
   "source": [
    "## Single Inheritance\n",
    "class Animal:\n",
    "    def speak(self):\n",
    "        print(\"Animal speaks\")\n",
    "\n",
    "class Dog(Animal):\n",
    "    def bark(self):\n",
    "        print(\"Dog barks\")\n",
    "\n",
    "# Multiple Inheritance\n",
    "class A:\n",
    "    pass\n",
    "\n",
    "class B:\n",
    "    pass\n",
    "\n",
    "class C(A, B):\n",
    "    pass\n",
    "\n",
    "# Multilevel Inheritance\n",
    "class X:\n",
    "    pass\n",
    "\n",
    "class Y(X):\n",
    "    pass\n",
    "\n",
    "class Z(Y):\n",
    "    pass\n"
   ]
  },
  {
   "cell_type": "code",
   "execution_count": 97,
   "id": "c0580730-01ae-4dea-a4d0-045157ba102c",
   "metadata": {},
   "outputs": [
    {
     "name": "stdout",
     "output_type": "stream",
     "text": [
      "After adding 'freedom_fighter' at index 0: ['freedom_fighter', 'Mohan', 'dash', 'karam', 'chandra', 'gandhi', 'Bapu']\n",
      "Length 1: 3\n",
      "Length 2: 5\n",
      "After adding ['NetaJi', 'Bose'] at the end: ['freedom_fighter', 'Mohan', 'dash', 'karam', 'chandra', 'gandhi', 'Bapu', 'NetaJi', 'Bose']\n",
      "After swapping first and last elements: ['Mohan', 'dash', 'karam', 'chandra', 'gandi', 'Bapuji']\n"
     ]
    }
   ],
   "source": [
    "#13 \n",
    "# Initial list\n",
    "name = [\"Mohan\", \"dash\", \"karam\", \"chandra\", \"gandhi\", \"Bapu\"]\n",
    "\n",
    "# a) Add element \"freedom_fighter\" at the 0th index\n",
    "name.insert(0, \"freedom_fighter\")\n",
    "print(\"After adding 'freedom_fighter' at index 0:\", name)\n",
    "\n",
    "# b) Output of the following operations\n",
    "# Explanation:\n",
    "# name[-len(name)+1:-1:2] gives a slice of the list starting from the second element till the second last element\n",
    "# with a step of 2 (skipping every second element).\n",
    "# name[-len(name)+1:-1] gives a slice of the list starting from the second element till the second last element.\n",
    "length1 = len(name[-len(name)+1:-1:2])\n",
    "length2 = len(name[-len(name)+1:-1])\n",
    "print(\"Length 1:\", length1)\n",
    "print(\"Length 2:\", length2)\n",
    "\n",
    "# c) Add elements [\"NetaJi\", \"Bose\"] at the end of the list\n",
    "name.extend([\"NetaJi\", \"Bose\"])\n",
    "print(\"After adding ['NetaJi', 'Bose'] at the end:\", name)\n",
    "\n",
    "# d) Value of temp in the following swap operation\n",
    "name = [\"Bapuji\", \"dash\", \"karam\", \"chandra\", \"gandi\", \"Mohan\"]\n",
    "temp = name[-1]\n",
    "name[-1] = name[0]\n",
    "name[0] = temp\n",
    "print(\"After swapping first and last elements:\", name)\n"
   ]
  },
  {
   "cell_type": "code",
   "execution_count": 7,
   "id": "28073d77-0093-4fb3-aa28-e53c2b4edc6b",
   "metadata": {},
   "outputs": [
    {
     "name": "stdout",
     "output_type": "stream",
     "text": [
      "count 2\n",
      "index 4\n",
      "length 7\n"
     ]
    }
   ],
   "source": [
    "#1.4 \n",
    "animal = ['Human','cat','mat','cat','rat','Human', 'Lion']\n",
    "print(\"count\",animal.count('Human'))\n",
    "print(\"index\",animal.index('rat'))\n",
    "print(\"length\",len(animal))"
   ]
  },
  {
   "cell_type": "code",
   "execution_count": 51,
   "id": "6ff99d95-7232-4b2e-a42a-d018bde123fd",
   "metadata": {},
   "outputs": [
    {
     "name": "stdout",
     "output_type": "stream",
     "text": [
      "length 8\n",
      "Navneet\n",
      "[{'roll_no': 1}, {'name': 'Navneet'}]\n",
      "{'roll_no': 1}\n",
      "getting value of roll number 1\n",
      "('sita', 'geeta', 22)\n",
      "22\n"
     ]
    }
   ],
   "source": [
    "# 1.5\n",
    "tuple1=(10,20,\"Apple\",3.4,'a',[\"master\",\"ji\"],(\"sita\",\"geeta\",22),[{\"roll_no\":1},{\"name\":\"Navneet\"}])\n",
    "\n",
    "type(tuple1)\n",
    "print(\"length\",len(tuple1))\n",
    "print(tuple1[-1][-1][\"name\"])\n",
    "list_of_dicts=tuple1[-1]\n",
    "print(list_of_dicts)\n",
    "dict_with_roll_no = list_of_dicts[0]\n",
    "print(dict_with_roll_no)\n",
    "roll_no_value = dict_with_roll_no[\"roll_no\"]\n",
    "print(\"getting value of roll number\",roll_no_value)\n",
    "list_of_tuple=tuple1[-2]\n",
    "print(list_of_tuple)\n",
    "list_with_int=list_of_tuple[2]\n",
    "print(list_with_int)"
   ]
  },
  {
   "cell_type": "code",
   "execution_count": 79,
   "id": "61e7a0ba-bb76-4cce-b318-97323746e4c9",
   "metadata": {},
   "outputs": [
    {
     "name": "stdin",
     "output_type": "stream",
     "text": [
      "choice of your signal from red/green/blue: yellow\n"
     ]
    },
    {
     "name": "stdout",
     "output_type": "stream",
     "text": [
      "stay\n"
     ]
    }
   ],
   "source": [
    "#1.6 Write a program to display the appropriate message as per the color of signal(RED-Stop/Yellow-Stay/\n",
    "#Green-Go) at the road crossing.\n",
    "#signal=[\"red\",\"green\",\"yellow\"]\n",
    "display=input(\"choice of your signal from red/green/blue:\")\n",
    "for str in display:\n",
    "    if display == 'red':\n",
    "        print(\"stop\")\n",
    "        break\n",
    "    elif display == 'green':\n",
    "        print(\"go\")\n",
    "        break\n",
    "    else:\n",
    "        display == \"yellow\"\n",
    "        print(\"stay\")\n",
    "        break\n"
   ]
  },
  {
   "cell_type": "code",
   "execution_count": 81,
   "id": "0bf24b38-b80f-447d-b71f-b70990d3d7f1",
   "metadata": {},
   "outputs": [
    {
     "name": "stdout",
     "output_type": "stream",
     "text": [
      "Welcome to Simple Calculator!\n",
      "Operations available:\n",
      "1. Addition (+)\n",
      "2. Subtraction (-)\n",
      "3. Multiplication (*)\n",
      "4. Division (/)\n",
      "5. Exit\n"
     ]
    },
    {
     "name": "stdin",
     "output_type": "stream",
     "text": [
      "Enter operation number (1/2/3/4/5):  1\n",
      "Enter first number:  2\n",
      "Enter second number:  3\n"
     ]
    },
    {
     "name": "stdout",
     "output_type": "stream",
     "text": [
      "2.0 + 3.0 = 5.0\n"
     ]
    },
    {
     "name": "stdin",
     "output_type": "stream",
     "text": [
      "Enter operation number (1/2/3/4/5):  0\n"
     ]
    },
    {
     "name": "stdout",
     "output_type": "stream",
     "text": [
      "Invalid input! Please choose a valid operation.\n"
     ]
    },
    {
     "name": "stdin",
     "output_type": "stream",
     "text": [
      "Enter operation number (1/2/3/4/5):  5\n"
     ]
    },
    {
     "name": "stdout",
     "output_type": "stream",
     "text": [
      "Exiting the calculator. Goodbye!\n"
     ]
    }
   ],
   "source": [
    "#1.7. Write a program to create a simple calculator performing only four basic operations(+,-,/,*) .\n",
    "# Function to add two numbers\n",
    "def add(x, y):\n",
    "    return x + y\n",
    "\n",
    "# Function to subtract two numbers\n",
    "def subtract(x, y):\n",
    "    return x - y\n",
    "\n",
    "# Function to multiply two numbers\n",
    "def multiply(x, y):\n",
    "    return x * y\n",
    "\n",
    "# Function to divide two numbers\n",
    "def divide(x, y):\n",
    "    # Check if divisor is 0 to avoid division by zero error\n",
    "    if y == 0:\n",
    "        return \"Error! Division by zero.\"\n",
    "    else:\n",
    "        return x / y\n",
    "\n",
    "# Main function to operate the calculator\n",
    "def calculator():\n",
    "    print(\"Welcome to Simple Calculator!\")\n",
    "    print(\"Operations available:\")\n",
    "    print(\"1. Addition (+)\")\n",
    "    print(\"2. Subtraction (-)\")\n",
    "    print(\"3. Multiplication (*)\")\n",
    "    print(\"4. Division (/)\")\n",
    "    print(\"5. Exit\")\n",
    "\n",
    "    while True:\n",
    "        # Take input from the user\n",
    "        choice = input(\"Enter operation number (1/2/3/4/5): \")\n",
    "\n",
    "        # Check if the choice is valid\n",
    "        if choice in ('1', '2', '3', '4'):\n",
    "            num1 = float(input(\"Enter first number: \"))\n",
    "            num2 = float(input(\"Enter second number: \"))\n",
    "\n",
    "            if choice == '1':\n",
    "                print(f\"{num1} + {num2} = {add(num1, num2)}\")\n",
    "            elif choice == '2':\n",
    "                print(f\"{num1} - {num2} = {subtract(num1, num2)}\")\n",
    "            elif choice == '3':\n",
    "                print(f\"{num1} * {num2} = {multiply(num1, num2)}\")\n",
    "            elif choice == '4':\n",
    "                print(f\"{num1} / {num2} = {divide(num1, num2)}\")\n",
    "        \n",
    "        elif choice == '5':\n",
    "            print(\"Exiting the calculator. Goodbye!\")\n",
    "            break\n",
    "        else:\n",
    "            print(\"Invalid input! Please choose a valid operation.\")\n",
    "\n",
    "# Run the calculator\n",
    "calculator()\n"
   ]
  },
  {
   "cell_type": "code",
   "execution_count": 83,
   "id": "77292b6e-78fc-4f5c-b832-7081baf64f52",
   "metadata": {},
   "outputs": [
    {
     "name": "stdout",
     "output_type": "stream",
     "text": [
      "The largest number among 25, 37, and 19 is: 37\n"
     ]
    }
   ],
   "source": [
    "#1.8. Write a program to find the larger of the three pre-specified numbers using ternary operators.\n",
    "# Pre-specified numbers\n",
    "num1 = 25\n",
    "num2 = 37\n",
    "num3 = 19\n",
    "\n",
    "# Using ternary operators to find the largest number\n",
    "largest = num1 if (num1 >= num2 and num1 >= num3) else (num2 if (num2 >= num1 and num2 >= num3) else num3)\n",
    "\n",
    "# Print the result\n",
    "print(f\"The largest number among {num1}, {num2}, and {num3} is: {largest}\")\n"
   ]
  },
  {
   "cell_type": "code",
   "execution_count": 95,
   "id": "423aa2c4-98e2-4d5a-a648-0b51e4981d50",
   "metadata": {},
   "outputs": [
    {
     "name": "stdin",
     "output_type": "stream",
     "text": [
      "Enter a whole number:  20\n"
     ]
    },
    {
     "name": "stdout",
     "output_type": "stream",
     "text": [
      "The factors of 20 are: [1, 2, 4, 5, 10, 20]\n"
     ]
    }
   ],
   "source": [
    "#1.9. Write a program to find the factors of a whole number using a while loop.\n",
    "# Function to find factors of a number\n",
    "def find_factors(number):\n",
    "    # Initialize variables\n",
    "    factors = []\n",
    "    i = 1\n",
    "    \n",
    "    # Use a while loop to find factors\n",
    "    while i <= number:\n",
    "        if number % i == 0:\n",
    "            factors.append(i)\n",
    "        i += 1\n",
    "    \n",
    "    return factors\n",
    "\n",
    "# Main program\n",
    "if __name__ == \"__main__\":\n",
    "    # Input the number\n",
    "    number = int(input(\"Enter a whole number: \"))\n",
    "    \n",
    "    # Find factors using the function\n",
    "    factors = find_factors(number)\n",
    "    \n",
    "    # Print the factors\n",
    "    print(f\"The factors of {number} are: {factors}\")\n"
   ]
  },
  {
   "cell_type": "code",
   "execution_count": 121,
   "id": "b90dca1e-cf10-4654-935f-499123bf6ff8",
   "metadata": {},
   "outputs": [
    {
     "name": "stdin",
     "output_type": "stream",
     "text": [
      "Enter a number (enter a negative number to stop):  9\n",
      "Enter a number (enter a negative number to stop):  9\n",
      "Enter a number (enter a negative number to stop):  2\n",
      "Enter a number (enter a negative number to stop):  -3\n"
     ]
    },
    {
     "name": "stdout",
     "output_type": "stream",
     "text": [
      "The sum of all positive numbers entered is: 20.0\n"
     ]
    }
   ],
   "source": [
    "\n",
    "#1.10. Write a program to find the sum of all the positive numbers entered by the user. As soon as the user\n",
    "#enters a negative number, stop taking in any further input from the user and display the sum .\n",
    "def sum_of_positive_numbers():\n",
    "    sum = 0\n",
    "    while True:\n",
    "        number = float(input(\"Enter a number (enter a negative number to stop): \"))\n",
    "        if number < 0:\n",
    "            break\n",
    "        sum += number\n",
    "    return sum\n",
    "\n",
    "# Main program\n",
    "if __name__ == \"__main__\":\n",
    "    total_sum = sum_of_positive_numbers()\n",
    "    print(f\"The sum of all positive numbers entered is: {total_sum}\")\n",
    "\n",
    "    "
   ]
  },
  {
   "cell_type": "code",
   "execution_count": 123,
   "id": "fad25a41-4a32-4a17-af1d-bc54601c1781",
   "metadata": {},
   "outputs": [
    {
     "name": "stdout",
     "output_type": "stream",
     "text": [
      "Prime numbers between 2 and 100:\n",
      "2 3 5 7 11 13 17 19 23 29 31 37 41 43 47 53 59 61 67 71 73 79 83 89 97 "
     ]
    }
   ],
   "source": [
    "#Write a program to find prime numbers between 2 to 100 using nested for loops.\n",
    "# Function to check if a number is prime\n",
    "def is_prime(num):\n",
    "    if num <= 1:\n",
    "        return False\n",
    "    if num == 2:\n",
    "        return True  # 2 is the only even prime number\n",
    "    if num % 2 == 0:\n",
    "        return False  # other even numbers are not prime\n",
    "    \n",
    "    # Check for factors from 3 to sqrt(num), skipping even numbers\n",
    "    for i in range(3, int(num**0.5) + 1, 2):\n",
    "        if num % i == 0:\n",
    "            return False\n",
    "    \n",
    "    return True\n",
    "\n",
    "# Main program to find prime numbers between 2 to 100\n",
    "if __name__ == \"__main__\":\n",
    "    print(\"Prime numbers between 2 and 100:\")\n",
    "    for number in range(2, 101):\n",
    "        if is_prime(number):\n",
    "            print(number, end=\" \")\n"
   ]
  },
  {
   "cell_type": "code",
   "execution_count": 141,
   "id": "5f04b853-2fa3-4f92-8fc8-cf01158b5e4d",
   "metadata": {},
   "outputs": [
    {
     "name": "stdin",
     "output_type": "stream",
     "text": [
      "enter your marks out of 100: 29\n",
      "enter your marks out of 100: 45\n",
      "enter your marks out of 100: 67\n",
      "enter your marks out of 100: 78\n",
      "enter your marks out of 100: 88\n"
     ]
    },
    {
     "name": "stdout",
     "output_type": "stream",
     "text": [
      "307\n",
      "61.4\n",
      "c\n"
     ]
    }
   ],
   "source": [
    "#1.12\n",
    "hindi = int(input(\"enter your marks out of 100:\"))\n",
    "english = int(input(\"enter your marks out of 100:\"))\n",
    "maths = int(input(\"enter your marks out of 100:\"))\n",
    "science = int(input(\"enter your marks out of 100:\"))\n",
    "social_studies = int(input(\"enter your marks out of 100:\"))\n",
    "sum_total = hindi+english+maths+science+social_studies\n",
    "print(sum_total)\n",
    "percentage=(sum_total/5)\n",
    "print(percentage)\n",
    "if percentage > 85 :\n",
    "    print('A')\n",
    "if  percentage < 85 and percentage >= 75:\n",
    "    print('B')\n",
    "if  percentage < 75 and percentage >= 50 :\n",
    "    print(\"c\")\n",
    "if  percentage < 50 and percentage >= 30 :\n",
    "    print('D')\n",
    "if percentage <30:\n",
    "    print('reappear')\n",
    "\n",
    "         "
   ]
  },
  {
   "cell_type": "code",
   "execution_count": 143,
   "id": "e60432d1-5ca7-473a-a6b2-d456d405ab8b",
   "metadata": {},
   "outputs": [
    {
     "name": "stdin",
     "output_type": "stream",
     "text": [
      "Enter the wavelength in nanometers (nm):  400\n"
     ]
    },
    {
     "name": "stdout",
     "output_type": "stream",
     "text": [
      "The color corresponding to 400.0 nm is: Violet\n"
     ]
    }
   ],
   "source": [
    "#1.13\n",
    "def get_color_by_wavelength(wavelength):\n",
    "    \"\"\"Determine the color based on the wavelength using VIBGYOR spectrum.\"\"\"\n",
    "    if 380 <= wavelength < 450:\n",
    "        return \"Violet\"\n",
    "    elif 450 <= wavelength < 495:\n",
    "        return \"Indigo\"\n",
    "    elif 495 <= wavelength < 570:\n",
    "        return \"Blue\"\n",
    "    elif 570 <= wavelength < 590:\n",
    "        return \"Green\"\n",
    "    elif 590 <= wavelength < 620:\n",
    "        return \"Yellow\"\n",
    "    elif 620 <= wavelength < 750:\n",
    "        return \"Orange\"\n",
    "    elif 750 <= wavelength <= 800:\n",
    "        return \"Red\"\n",
    "    else:\n",
    "        return \"Out of VIBGYOR range\"\n",
    "\n",
    "# Main program\n",
    "if __name__ == \"__main__\":\n",
    "    try:\n",
    "        wavelength = float(input(\"Enter the wavelength in nanometers (nm): \"))\n",
    "        color = get_color_by_wavelength(wavelength)\n",
    "        print(f\"The color corresponding to {wavelength} nm is: {color}\")\n",
    "    except ValueError:\n",
    "        print(\"Invalid input! Please enter a valid number.\")\n"
   ]
  },
  {
   "cell_type": "code",
   "execution_count": 145,
   "id": "03ab9e12-1a3d-4d71-8141-d30742c803a0",
   "metadata": {},
   "outputs": [
    {
     "name": "stdout",
     "output_type": "stream",
     "text": [
      "Gravitational force between Earth and Sun: 1.60e+23 N\n",
      "Gravitational force between Moon and Earth: 1.98e+20 N\n",
      "The stronger gravitational force is between: Earth and Sun\n"
     ]
    }
   ],
   "source": [
    "#1.14\n",
    "# Gravitational constant\n",
    "G = 6.67430e-11  # m^3 kg^-1 s^-2\n",
    "\n",
    "# Given masses (in kilograms)\n",
    "mass_earth = 5.972e24\n",
    "mass_moon = 7.34767309e22\n",
    "mass_sun = 0.989e30\n",
    "\n",
    "# Given distances (in meters)\n",
    "distance_earth_sun = 0.496e11  # 0.496 * 10^11 meters\n",
    "distance_moon_earth = 3.844e8  # meters\n",
    "\n",
    "# Calculate gravitational force between Earth and Sun\n",
    "force_earth_sun = G * mass_earth * mass_sun / (distance_earth_sun ** 2)\n",
    "\n",
    "# Calculate gravitational force between Moon and Earth\n",
    "force_moon_earth = G * mass_moon * mass_earth / (distance_moon_earth ** 2)\n",
    "\n",
    "# Compare the forces\n",
    "if force_earth_sun > force_moon_earth:\n",
    "    stronger_force = \"Earth and Sun\"\n",
    "else:\n",
    "    stronger_force = \"Moon and Earth\"\n",
    "\n",
    "\n",
    "print(f\"Gravitational force between Earth and Sun: {force_earth_sun:.2e} N\")\n",
    "print(f\"Gravitational force between Moon and Earth: {force_moon_earth:.2e} N\")\n",
    "print(f\"The stronger gravitational force is between: {stronger_force}\")\n",
    "\n",
    "\n"
   ]
  },
  {
   "cell_type": "code",
   "execution_count": 169,
   "id": "2a899554-89fb-4aa3-9b51-ab1a456e8bd5",
   "metadata": {},
   "outputs": [
    {
     "name": "stdin",
     "output_type": "stream",
     "text": [
      "enter a name anwesha\n",
      "enter your age 23\n",
      "enter your roll number 2\n"
     ]
    },
    {
     "name": "stdout",
     "output_type": "stream",
     "text": [
      "\n",
      "Displaying Student Details\n",
      "Name : anwesha\n",
      "age : 23\n",
      "roll_num : None\n"
     ]
    }
   ],
   "source": [
    "#2 student information\n",
    "class Student:\n",
    "    def __init__(self):\n",
    "        self.name=\"\"\n",
    "        self.age=\"\"\n",
    "        self.roll_num=0\n",
    "    def setname(self,name):\n",
    "        self.name = name\n",
    "    def getname(self):\n",
    "        return self.name\n",
    "   \n",
    "    def setage(self,age):\n",
    "        self.age = age\n",
    "    def getage(self):\n",
    "        return self.age\n",
    "\n",
    "    def setroll_num(self,roll_num):\n",
    "        self.roll_num = roll_num\n",
    "    def getroll_num(self):\n",
    "        self.roll_num = roll_num\n",
    "#get user input\n",
    "name = input(\"enter a name\")\n",
    "age = input(\"enter your age\")\n",
    "roll_num = input(\"enter your roll number\")\n",
    "\n",
    "s = Student()\n",
    " \n",
    "#Set the attributes using setter methods\n",
    "s.setname(name)\n",
    "s.setage(age)\n",
    "s.setroll_num(roll_num)\n",
    " \n",
    "# Get the attributes using getter methods\n",
    "n = s.getname()\n",
    "t = s.getage()\n",
    "p = s.getroll_num()\n",
    " \n",
    "print(\"\\nDisplaying Student Details\")\n",
    "print(\"Name :\", n)\n",
    "print(\"age :\", t)\n",
    "print(\"roll_num :\", p)\n"
   ]
  },
  {
   "cell_type": "code",
   "execution_count": 171,
   "id": "fecdfd82-f66a-45b5-9291-541d7fc04f55",
   "metadata": {},
   "outputs": [
    {
     "name": "stdout",
     "output_type": "stream",
     "text": [
      "'The Great Gatsby' by F. Scott Fitzgerald available: True\n",
      "'1984' by George Orwell available: True\n",
      "You have successfully borrowed 'The Great Gatsby' by F. Scott Fitzgerald.\n",
      "You have successfully borrowed '1984' by George Orwell.\n",
      "'The Great Gatsby' by F. Scott Fitzgerald is currently not available.\n",
      "'The Great Gatsby' by F. Scott Fitzgerald has been returned and is now available.\n",
      "'1984' by George Orwell has been returned and is now available.\n",
      "'The Great Gatsby' by F. Scott Fitzgerald available: True\n",
      "'1984' by George Orwell available: True\n"
     ]
    }
   ],
   "source": [
    "#3 managing library resources\n",
    "\n",
    "class LibraryBook:\n",
    "    def __init__(self, book_name, author):\n",
    "        self.__book_name = book_name\n",
    "        self.__author = author\n",
    "        self.__availability_status = True  # True means available, False means borrowed\n",
    "    \n",
    "    # Getter methods\n",
    "    def get_book_name(self):\n",
    "        return self.__book_name\n",
    "    \n",
    "    def get_author(self):\n",
    "        return self.__author\n",
    "    \n",
    "    def is_available(self):\n",
    "        return self.__availability_status\n",
    "    \n",
    "    # Setter methods (optional)\n",
    "    def set_book_name(self, book_name):\n",
    "        self.__book_name = book_name\n",
    "    \n",
    "    def set_author(self, author):\n",
    "        self.__author = author\n",
    "    \n",
    "    # Method to borrow the book\n",
    "    def borrow_book(self):\n",
    "        if self.__availability_status:\n",
    "            self.__availability_status = False\n",
    "            print(f\"You have successfully borrowed '{self.__book_name}' by {self.__author}.\")\n",
    "        else:\n",
    "            print(f\"'{self.__book_name}' by {self.__author} is currently not available.\")\n",
    "    \n",
    "    # Method to return the book\n",
    "    def return_book(self):\n",
    "        if not self.__availability_status:\n",
    "            self.__availability_status = True\n",
    "            print(f\"'{self.__book_name}' by {self.__author} has been returned and is now available.\")\n",
    "        else:\n",
    "            print(f\"'{self.__book_name}' by {self.__author} was not borrowed.\")\n",
    "\n",
    "# Test the LibraryBook class\n",
    "if __name__ == \"__main__\":\n",
    "    # Create book instances\n",
    "    book1 = LibraryBook(\"The Great Gatsby\", \"F. Scott Fitzgerald\")\n",
    "    book2 = LibraryBook(\"1984\", \"George Orwell\")\n",
    "    \n",
    "    # Display initial availability\n",
    "    print(f\"'{book1.get_book_name()}' by {book1.get_author()} available: {book1.is_available()}\")\n",
    "    print(f\"'{book2.get_book_name()}' by {book2.get_author()} available: {book2.is_available()}\")\n",
    "    \n",
    "    # Borrow books\n",
    "    book1.borrow_book()\n",
    "    book2.borrow_book()\n",
    "    \n",
    "    # Attempt to borrow again\n",
    "    book1.borrow_book()\n",
    "    \n",
    "    # Return books\n",
    "    book1.return_book()\n",
    "    book2.return_book()\n",
    "    \n",
    "    # Display final availability\n",
    "    print(f\"'{book1.get_book_name()}' by {book1.get_author()} available: {book1.is_available()}\")\n",
    "    print(f\"'{book2.get_book_name()}' by {book2.get_author()} available: {book2.is_available()}\")\n",
    "\n",
    "    "
   ]
  },
  {
   "cell_type": "code",
   "execution_count": 173,
   "id": "3b38f0cc-a820-419d-9403-66075976aa41",
   "metadata": {},
   "outputs": [
    {
     "name": "stdout",
     "output_type": "stream",
     "text": [
      "Account balance: $1000.00\n",
      "Deposited $200.00. New balance is $1200.00.\n",
      "Withdrew $100.00. New balance is $1100.00.\n",
      "Deposited $33.00. New balance is $1133.00.\n",
      "Applied interest: $33.00 at rate 3.00%\n",
      "\n",
      "Account balance: $500.00\n",
      "Deposited $150.00. New balance is $650.00.\n",
      "Withdrew $600.00. New balance is $50.00.\n",
      "Insufficient funds.\n"
     ]
    }
   ],
   "source": [
    "#4 banking\n",
    "class BankAccount:\n",
    "    def __init__(self, account_number, owner, balance=0.0):\n",
    "        self.__account_number = account_number\n",
    "        self.__owner = owner\n",
    "        self.__balance = balance\n",
    "    \n",
    "    # Getter methods\n",
    "    def get_account_number(self):\n",
    "        return self.__account_number\n",
    "    \n",
    "    def get_owner(self):\n",
    "        return self.__owner\n",
    "    \n",
    "    def get_balance(self):\n",
    "        return self.__balance\n",
    "    \n",
    "    # Deposit method\n",
    "    def deposit(self, amount):\n",
    "        if amount > 0:\n",
    "            self.__balance += amount\n",
    "            print(f\"Deposited ${amount:.2f}. New balance is ${self.__balance:.2f}.\")\n",
    "        else:\n",
    "            print(\"Deposit amount must be positive.\")\n",
    "    \n",
    "    # Withdraw method\n",
    "    def withdraw(self, amount):\n",
    "        if amount > 0:\n",
    "            if amount <= self.__balance:\n",
    "                self.__balance -= amount\n",
    "                print(f\"Withdrew ${amount:.2f}. New balance is ${self.__balance:.2f}.\")\n",
    "            else:\n",
    "                print(\"Insufficient funds.\")\n",
    "        else:\n",
    "            print(\"Withdrawal amount must be positive.\")\n",
    "    \n",
    "    # Balance inquiry\n",
    "    def inquire_balance(self):\n",
    "        print(f\"Account balance: ${self.__balance:.2f}\")\n",
    "\n",
    "class SavingsAccount(BankAccount):\n",
    "    def __init__(self, account_number, owner, balance=0.0, interest_rate=0.01):\n",
    "        super().__init__(account_number, owner, balance)\n",
    "        self.__interest_rate = interest_rate\n",
    "    \n",
    "    # Method to apply interest\n",
    "    def apply_interest(self):\n",
    "        interest = self.get_balance() * self.__interest_rate\n",
    "        self.deposit(interest)\n",
    "        print(f\"Applied interest: ${interest:.2f} at rate {self.__interest_rate*100:.2f}%\")\n",
    "\n",
    "class CheckingAccount(BankAccount):\n",
    "    def __init__(self, account_number, owner, balance=0.0, overdraft_limit=500.0):\n",
    "        super().__init__(account_number, owner, balance)\n",
    "        self.__overdraft_limit = overdraft_limit\n",
    "    \n",
    "    # Override withdraw method to include overdraft\n",
    "    def withdraw(self, amount):\n",
    "        if amount > 0:\n",
    "            if amount <= (self.get_balance() + self.__overdraft_limit):\n",
    "                super().withdraw(amount)\n",
    "            else:\n",
    "                print(f\"Overdraft limit exceeded. Available balance including overdraft is ${self.get_balance() + self.__overdraft_limit:.2f}.\")\n",
    "        else:\n",
    "            print(\"Withdrawal amount must be positive.\")\n",
    "\n",
    "# Test the Banking System\n",
    "if __name__ == \"__main__\":\n",
    "    # Create a savings account\n",
    "    savings_account = SavingsAccount(account_number=\"SA12345\", owner=\"Alice\", balance=1000.0, interest_rate=0.03)\n",
    "    savings_account.inquire_balance()\n",
    "    savings_account.deposit(200.0)\n",
    "    savings_account.withdraw(100.0)\n",
    "    savings_account.apply_interest()\n",
    "    \n",
    "    print()  # New line for readability\n",
    "    \n",
    "    # Create a checking account\n",
    "    checking_account = CheckingAccount(account_number=\"CA67890\", owner=\"Bob\", balance=500.0, overdraft_limit=300.0)\n",
    "    checking_account.inquire_balance()\n",
    "    checking_account.deposit(150.0)\n",
    "    checking_account.withdraw(600.0)\n",
    "    checking_account.withdraw(200.0)\n",
    "\n"
   ]
  },
  {
   "cell_type": "code",
   "execution_count": 175,
   "id": "9e39512c-975f-4b2e-8890-f35cfd282f93",
   "metadata": {},
   "outputs": [
    {
     "name": "stdout",
     "output_type": "stream",
     "text": [
      "The dog says: Woof! Woof!\n",
      "The cat says: Meow! Meow!\n"
     ]
    }
   ],
   "source": [
    "#5 animal sound\n",
    "class Animal:\n",
    "    def make_sound(self):\n",
    "        raise NotImplementedError(\"Subclasses must implement this method\")\n",
    "\n",
    "class Dog(Animal):\n",
    "    def make_sound(self):\n",
    "        return \"Woof! Woof!\"\n",
    "\n",
    "class Cat(Animal):\n",
    "    def make_sound(self):\n",
    "        return \"Meow! Meow!\"\n",
    "\n",
    "# Test the Animal Sound System\n",
    "if __name__ == \"__main__\":\n",
    "    # Create instances of Dog and Cat\n",
    "    dog = Dog()\n",
    "    cat = Cat()\n",
    "    \n",
    "    # Call the make_sound method and print the results\n",
    "    print(f\"The dog says: {dog.make_sound()}\")\n",
    "    print(f\"The cat says: {cat.make_sound()}\")\n"
   ]
  },
  {
   "cell_type": "code",
   "execution_count": 177,
   "id": "8a0e62d2-ebc3-4eb7-8baa-2f4ec6a0d560",
   "metadata": {},
   "outputs": [
    {
     "name": "stdout",
     "output_type": "stream",
     "text": [
      "Food Item Details:\n",
      "ID: 1\n",
      "Name: Pasta\n",
      "Description: Creamy Alfredo pasta\n",
      "Price: $12.99\n",
      "Category: Main Course\n",
      "Cuisine: Italian\n",
      "\n",
      "Beverage Item Details:\n",
      "ID: 2\n",
      "Name: Lemonade\n",
      "Description: Freshly squeezed lemonade\n",
      "Price: $4.99\n",
      "Category: Beverage\n",
      "Volume: 250 ml\n",
      "\n",
      "Updated Food Item Details:\n",
      "ID: 1\n",
      "Name: Pasta\n",
      "Description: Creamy Alfredo pasta\n",
      "Price: $13.49\n",
      "Category: Main Course\n",
      "Cuisine: Italian\n",
      "\n",
      "Updated Beverage Item Details:\n",
      "ID: 2\n",
      "Name: Lemonade\n",
      "Description: Freshly squeezed lemonade\n",
      "Price: $4.99\n",
      "Category: Beverage\n",
      "Volume: 300 ml\n"
     ]
    }
   ],
   "source": [
    "#6 restaurant \n",
    "class MenuItem:\n",
    "    _id_counter = 1  # Class variable to generate unique IDs\n",
    "\n",
    "    def __init__(self, name, description, price, category):\n",
    "        self.__id = MenuItem._id_counter  # Unique ID for the menu item (private)\n",
    "        MenuItem._id_counter += 1\n",
    "        self.__name = name\n",
    "        self.__description = description\n",
    "        self.__price = price\n",
    "        self.__category = category\n",
    "\n",
    "    # Getter methods\n",
    "    def get_id(self):\n",
    "        return self.__id\n",
    "\n",
    "    def get_name(self):\n",
    "        return self.__name\n",
    "\n",
    "    def get_description(self):\n",
    "        return self.__description\n",
    "\n",
    "    def get_price(self):\n",
    "        return self.__price\n",
    "\n",
    "    def get_category(self):\n",
    "        return self.__category\n",
    "\n",
    "    # Setter methods\n",
    "    def set_name(self, name):\n",
    "        self.__name = name\n",
    "\n",
    "    def set_description(self, description):\n",
    "        self.__description = description\n",
    "\n",
    "    def set_price(self, price):\n",
    "        if price >= 0:\n",
    "            self.__price = price\n",
    "        else:\n",
    "            print(\"Price must be non-negative.\")\n",
    "\n",
    "    def set_category(self, category):\n",
    "        self.__category = category\n",
    "\n",
    "    # Method to display item details\n",
    "    def display_item(self):\n",
    "        print(f\"ID: {self.__id}\")\n",
    "        print(f\"Name: {self.__name}\")\n",
    "        print(f\"Description: {self.__description}\")\n",
    "        print(f\"Price: ${self.__price:.2f}\")\n",
    "        print(f\"Category: {self.__category}\")\n",
    "\n",
    "class FoodItem(MenuItem):\n",
    "    def __init__(self, name, description, price, category, cuisine):\n",
    "        super().__init__(name, description, price, category)\n",
    "        self.__cuisine = cuisine  # Specific attribute for food items\n",
    "\n",
    "    def get_cuisine(self):\n",
    "        return self.__cuisine\n",
    "\n",
    "    def set_cuisine(self, cuisine):\n",
    "        self.__cuisine = cuisine\n",
    "\n",
    "    def display_item(self):\n",
    "        super().display_item()\n",
    "        print(f\"Cuisine: {self.__cuisine}\")\n",
    "\n",
    "class BeverageItem(MenuItem):\n",
    "    def __init__(self, name, description, price, category, volume):\n",
    "        super().__init__(name, description, price, category)\n",
    "        self.__volume = volume  # Specific attribute for beverage items\n",
    "\n",
    "    def get_volume(self):\n",
    "        return self.__volume\n",
    "\n",
    "    def set_volume(self, volume):\n",
    "        if volume > 0:\n",
    "            self.__volume = volume\n",
    "        else:\n",
    "            print(\"Volume must be positive.\")\n",
    "\n",
    "    def display_item(self):\n",
    "        super().display_item()\n",
    "        print(f\"Volume: {self.__volume} ml\")\n",
    "\n",
    "# Test the Restaurant Management System\n",
    "if __name__ == \"__main__\":\n",
    "    # Create instances of FoodItem and BeverageItem\n",
    "    food_item = FoodItem(name=\"Pasta\", description=\"Creamy Alfredo pasta\", price=12.99, category=\"Main Course\", cuisine=\"Italian\")\n",
    "    beverage_item = BeverageItem(name=\"Lemonade\", description=\"Freshly squeezed lemonade\", price=4.99, category=\"Beverage\", volume=250)\n",
    "\n",
    "    # Display the items\n",
    "    print(\"Food Item Details:\")\n",
    "    food_item.display_item()\n",
    "    \n",
    "    print(\"\\nBeverage Item Details:\")\n",
    "    beverage_item.display_item()\n",
    "\n",
    "    # Update and display the items\n",
    "    food_item.set_price(13.49)\n",
    "    beverage_item.set_volume(300)\n",
    "\n",
    "    print(\"\\nUpdated Food Item Details:\")\n",
    "    food_item.display_item()\n",
    "    \n",
    "    print(\"\\nUpdated Beverage Item Details:\")\n",
    "    beverage_item.display_item()\n"
   ]
  },
  {
   "cell_type": "code",
   "execution_count": 179,
   "id": "8410090e-6ad6-41f1-819f-01d05d979fec",
   "metadata": {},
   "outputs": [
    {
     "name": "stdout",
     "output_type": "stream",
     "text": [
      "Suite Room Details:\n",
      "Room Number: 101\n",
      "Room Type: Suite\n",
      "Rate: $250.00\n",
      "Availability: Available\n",
      "Jacuzzi: Yes\n",
      "\n",
      "Standard Room Details:\n",
      "Room Number: 202\n",
      "Room Type: Standard\n",
      "Rate: $100.00\n",
      "Availability: Available\n",
      "Floor: 2\n",
      "Room 101 has been booked.\n",
      "Guest checked into room 101.\n",
      "Room 202 has been booked.\n",
      "Guest checked into room 202.\n",
      "Room 101 is already booked.\n",
      "Guest checked out of room 101.\n",
      "Guest checked out of room 202.\n",
      "\n",
      "Updated Suite Room Details:\n",
      "Room Number: 101\n",
      "Room Type: Suite\n",
      "Rate: $250.00\n",
      "Availability: Available\n",
      "Jacuzzi: Yes\n",
      "\n",
      "Updated Standard Room Details:\n",
      "Room Number: 202\n",
      "Room Type: Standard\n",
      "Rate: $100.00\n",
      "Availability: Available\n",
      "Floor: 2\n"
     ]
    }
   ],
   "source": [
    "#hotelmanagement \n",
    "class Room:\n",
    "    def __init__(self, room_number, room_type, rate):\n",
    "        self.__room_number = room_number  # Unique ID for the room (private)\n",
    "        self.__room_type = room_type\n",
    "        self.__rate = rate\n",
    "        self.__availability = True  # True means available, False means booked\n",
    "    \n",
    "    # Getter methods\n",
    "    def get_room_number(self):\n",
    "        return self.__room_number\n",
    "    \n",
    "    def get_room_type(self):\n",
    "        return self.__room_type\n",
    "    \n",
    "    def get_rate(self):\n",
    "        return self.__rate\n",
    "    \n",
    "    def is_available(self):\n",
    "        return self.__availability\n",
    "    \n",
    "    # Method to book a room\n",
    "    def book_room(self):\n",
    "        if self.__availability:\n",
    "            self.__availability = False\n",
    "            print(f\"Room {self.__room_number} has been booked.\")\n",
    "        else:\n",
    "            print(f\"Room {self.__room_number} is already booked.\")\n",
    "    \n",
    "    # Method to check-in a guest\n",
    "    def check_in(self):\n",
    "        if self.__availability:\n",
    "            print(f\"Room {self.__room_number} is not available for check-in.\")\n",
    "        else:\n",
    "            print(f\"Guest checked into room {self.__room_number}.\")\n",
    "    \n",
    "    # Method to check-out a guest\n",
    "    def check_out(self):\n",
    "        if not self.__availability:\n",
    "            self.__availability = True\n",
    "            print(f\"Guest checked out of room {self.__room_number}.\")\n",
    "        else:\n",
    "            print(f\"Room {self.__room_number} is already available.\")\n",
    "    \n",
    "    # Method to display room details\n",
    "    def display_room(self):\n",
    "        print(f\"Room Number: {self.__room_number}\")\n",
    "        print(f\"Room Type: {self.__room_type}\")\n",
    "        print(f\"Rate: ${self.__rate:.2f}\")\n",
    "        print(f\"Availability: {'Available' if self.__availability else 'Booked'}\")\n",
    "\n",
    "class SuiteRoom(Room):\n",
    "    def __init__(self, room_number, rate, has_jacuzzi):\n",
    "        super().__init__(room_number, \"Suite\", rate)\n",
    "        self.__has_jacuzzi = has_jacuzzi  # Specific attribute for suite rooms\n",
    "    \n",
    "    def get_has_jacuzzi(self):\n",
    "        return self.__has_jacuzzi\n",
    "    \n",
    "    def set_has_jacuzzi(self, has_jacuzzi):\n",
    "        self.__has_jacuzzi = has_jacuzzi\n",
    "    \n",
    "    def display_room(self):\n",
    "        super().display_room()\n",
    "        print(f\"Jacuzzi: {'Yes' if self.__has_jacuzzi else 'No'}\")\n",
    "\n",
    "class StandardRoom(Room):\n",
    "    def __init__(self, room_number, rate, floor):\n",
    "        super().__init__(room_number, \"Standard\", rate)\n",
    "        self.__floor = floor  # Specific attribute for standard rooms\n",
    "    \n",
    "    def get_floor(self):\n",
    "        return self.__floor\n",
    "    \n",
    "    def set_floor(self, floor):\n",
    "        self.__floor = floor\n",
    "    \n",
    "    def display_room(self):\n",
    "        super().display_room()\n",
    "        print(f\"Floor: {self.__floor}\")\n",
    "\n",
    "# Test the Hotel Management System\n",
    "if __name__ == \"__main__\":\n",
    "    # Create instances of SuiteRoom and StandardRoom\n",
    "    suite_room = SuiteRoom(room_number=101, rate=250.0, has_jacuzzi=True)\n",
    "    standard_room = StandardRoom(room_number=202, rate=100.0, floor=2)\n",
    "    \n",
    "    # Display room details\n",
    "    print(\"Suite Room Details:\")\n",
    "    suite_room.display_room()\n",
    "    \n",
    "    print(\"\\nStandard Room Details:\")\n",
    "    standard_room.display_room()\n",
    "    \n",
    "    # Book rooms and check-in guests\n",
    "    suite_room.book_room()\n",
    "    suite_room.check_in()\n",
    "    \n",
    "    standard_room.book_room()\n",
    "    standard_room.check_in()\n",
    "    \n",
    "    # Try to book a room that is already booked\n",
    "    suite_room.book_room()\n",
    "    \n",
    "    # Check-out guests\n",
    "    suite_room.check_out()\n",
    "    standard_room.check_out()\n",
    "    \n",
    "    # Display updated room details\n",
    "    print(\"\\nUpdated Suite Room Details:\")\n",
    "    suite_room.display_room()\n",
    "    \n",
    "    print(\"\\nUpdated Standard Room Details:\")\n",
    "    standard_room.display_room()\n"
   ]
  },
  {
   "cell_type": "code",
   "execution_count": 187,
   "id": "ae9d4824-dddb-4b0f-a21a-bb8b9c9d0d03",
   "metadata": {},
   "outputs": [
    {
     "name": "stdout",
     "output_type": "stream",
     "text": [
      "Member 'Anwesha' registered successfully.\n",
      "Member 'boobi' registered successfully.\n",
      "Family size updated to 5 for 'Anwesha'.\n",
      "Personal training sessions updated to 12 for 'boobi'.\n",
      "Member(Name: Anwesha, Age: 26, Membership Type: Family, Status:Inactive)\n",
      "Member(Name: boobi, Age: 23, Membership Type: Individual, Status:Inactive)\n",
      "{'Name': 'Anwesha', 'Age': 26, 'Membership Type': 'Family', 'Membership status': 'Inactive', 'family size': 5}\n",
      "{'Name': 'boobi', 'Age': 23, 'Membership Type': 'Individual', 'Membership status': 'Inactive', 'Personal Training srssions': 12}\n",
      "Membership for 'Anwesha' renewed succesfull\n",
      "Membership for 'boobi' is not active or already cancelled.\n"
     ]
    }
   ],
   "source": [
    "#fitness managemant system\n",
    "class Member:\n",
    "    def __init__(self,name,age,membership_type):\n",
    "        self._name = name\n",
    "        self._age = age\n",
    "        self._membership_type = membership_type\n",
    "        self._membership_status = \"Inactive\"\n",
    "        self._id = self._generate_unique_id()\n",
    "\n",
    "    def _generate_unique_id(self):\n",
    "        import random\n",
    "        return random.randint(1000,9999)\n",
    "\n",
    "    def register_member(self):\n",
    "        if self._membership_status == \"Inactive\" :\n",
    "            self._membership_status == \"Active\"\n",
    "            print(f\"Member '{self._name}' registered successfully.\")\n",
    "        else:\n",
    "            print(f\"Member '{self._name}' is already registered.\")\n",
    "    def renew_membership(self):\n",
    "        if self._membership_status == \"Active\":\n",
    "            print(f\"Membership for '{Self._name}' is  an exisiting member\")\n",
    "        else:\n",
    "            self._membership_status = \"Active\"\n",
    "            print(f\"Membership for '{self._name}' renewed succesfull\")\n",
    "\n",
    "    def cancel_membership(self):\n",
    "        if self._membership_status == \"Active\":\n",
    "            self._membership_status = 'Cancelled'\n",
    "            print(f\"Membership for '{self._name}' has been cancelled.\")\n",
    "        else:\n",
    "            print(f\"Membership for '{self._name}' is not active or already cancelled.\")\n",
    "    def get_member_info(self):\n",
    "        return {\n",
    "            'Name' : self._name,\n",
    "            'Age':self._age,\n",
    "            \"Membership Type\" : self._membership_type,\n",
    "            \"Membership status\" : self._membership_status\n",
    "        }\n",
    "    def __str__(self):\n",
    "        return f\"Member(Name: {self._name}, Age: {self._age}, Membership Type: {self._membership_type}, Status:{self._membership_status})\"\n",
    "\n",
    "class FamilyMember(Member):\n",
    "    def __init__(self, name,age,membership_type,family_size):\n",
    "        super().__init__(name,age,membership_type)\n",
    "        self.family_size = family_size\n",
    "\n",
    "    def update_family_size(self,new_size):\n",
    "        self.family_size = new_size\n",
    "        print(f\"Family size updated to {self.family_size} for '{self._name}'.\")\n",
    "    def get_member_info(self):\n",
    "        info = super().get_member_info()\n",
    "        info['family size'] = self.family_size\n",
    "        return info\n",
    "class Individualmember(Member):\n",
    "    def __init__(self,name,age,membership_type,personal_training_sessions):\n",
    "        super().__init__(name, age, membership_type)\n",
    "        self.personal_training_sessions = personal_training_sessions\n",
    "    def update_training_sessions(self, new_sessions):\n",
    "        self.personal_training_sessions = new_sessions\n",
    "        print(f\"Personal training sessions updated to {self.personal_training_sessions} for '{self._name}'.\")\n",
    "    def get_member_info(self):\n",
    "        info = super().get_member_info()\n",
    "        info['Personal Training srssions'] = self.personal_training_sessions\n",
    "        return info\n",
    "\n",
    "if __name__ == '__main__':\n",
    "    member1 = FamilyMember(\"Anwesha\", 26,\"Family\",4)\n",
    "    member2 = Individualmember(\"boobi\",23,\"Individual\",10)\n",
    "    \n",
    "    member1.register_member()\n",
    "    member2.register_member()\n",
    "\n",
    "    # Update attributes\n",
    "    member1.update_family_size(5)\n",
    "    member2.update_training_sessions(12)\n",
    "\n",
    "    # Print member information\n",
    "    print(member1)\n",
    "    print(member2)\n",
    "\n",
    "    # Get detailed member info\n",
    "    print(member1.get_member_info())\n",
    "    print(member2.get_member_info())\n",
    "    \n",
    "    # Renew and cancel memberships\n",
    "    member1.renew_membership()\n",
    "    member2.cancel_membership()   \n"
   ]
  },
  {
   "cell_type": "code",
   "execution_count": 189,
   "id": "add69d33-d562-4e64-94a4-270d420a202b",
   "metadata": {},
   "outputs": [
    {
     "name": "stdout",
     "output_type": "stream",
     "text": [
      "Event 'John's Birthday' created successfully on 2024-08-15 at 18:00 in John's House.\n",
      "Event 'Music Festival' created successfully on 2024-09-10 at 14:00 in Central Park.\n",
      "Attendee 'Alice' added to the event 'John's Birthday'.\n",
      "Attendee 'Bob' added to the event 'John's Birthday'.\n",
      "Attendee 'Alice' removed from the event 'John's Birthday'.\n",
      "Attendee 'Charlie' added to the event 'Music Festival'.\n",
      "Attendee 'Diana' added to the event 'Music Festival'.\n",
      "PrivateEvent(Name: John's Birthday, Date: 2024-08-15, Time: 18:00, Location: John's House, Host: John Doe, Total Attendees: 1)\n",
      "PublicEvent(Name: Music Festival, Date: 2024-09-10, Time: 14:00, Location: Central Park, Ticket Price: 50, Total Attendees: 2)\n",
      "{'Name': \"John's Birthday\", 'Date': '2024-08-15', 'Time': '18:00', 'Location': \"John's House\", 'Total Attendees': 1, 'Host Name': 'John Doe'}\n",
      "{'Name': 'Music Festival', 'Date': '2024-09-10', 'Time': '14:00', 'Location': 'Central Park', 'Total Attendees': 2, 'Ticket Price': 50}\n"
     ]
    }
   ],
   "source": [
    "#event managemnet\n",
    "import random\n",
    "from datetime import datetime\n",
    "\n",
    "# Base Event class\n",
    "class Event:\n",
    "    def __init__(self, name, date, time, location):\n",
    "        self._name = name\n",
    "        self._date = date\n",
    "        self._time = time\n",
    "        self._location = location\n",
    "        self.__id = self._generate_unique_id()\n",
    "        self.__attendees = []\n",
    "\n",
    "    def _generate_unique_id(self):\n",
    "        return random.randint(1000, 9999)  # A simple unique ID generator\n",
    "\n",
    "    def create_event(self):\n",
    "        print(f\"Event '{self._name}' created successfully on {self._date} at {self._time} in {self._location}.\")\n",
    "\n",
    "    def add_attendee(self, attendee):\n",
    "        if attendee not in self.__attendees:\n",
    "            self.__attendees.append(attendee)\n",
    "            print(f\"Attendee '{attendee}' added to the event '{self._name}'.\")\n",
    "        else:\n",
    "            print(f\"Attendee '{attendee}' is already on the list.\")\n",
    "\n",
    "    def remove_attendee(self, attendee):\n",
    "        if attendee in self.__attendees:\n",
    "            self.__attendees.remove(attendee)\n",
    "            print(f\"Attendee '{attendee}' removed from the event '{self._name}'.\")\n",
    "        else:\n",
    "            print(f\"Attendee '{attendee}' was not found in the list.\")\n",
    "\n",
    "    def get_total_attendees(self):\n",
    "        return len(self.__attendees)\n",
    "\n",
    "    def get_event_info(self):\n",
    "        return {\n",
    "            'Name': self._name,\n",
    "            'Date': self._date,\n",
    "            'Time': self._time,\n",
    "            'Location': self._location,\n",
    "            'Total Attendees': self.get_total_attendees()\n",
    "        }\n",
    "\n",
    "    def __str__(self):\n",
    "        return f\"Event(Name: {self._name}, Date: {self._date}, Time: {self._time}, Location: {self._location}, Total Attendees: {self.get_total_attendees()})\"\n",
    "\n",
    "# PrivateEvent subclass\n",
    "class PrivateEvent(Event):\n",
    "    def __init__(self, name, date, time, location, host_name):\n",
    "        super().__init__(name, date, time, location)\n",
    "        self.host_name = host_name\n",
    "\n",
    "    def get_event_info(self):\n",
    "        info = super().get_event_info()\n",
    "        info['Host Name'] = self.host_name\n",
    "        return info\n",
    "\n",
    "    def __str__(self):\n",
    "        return f\"PrivateEvent(Name: {self._name}, Date: {self._date}, Time: {self._time}, Location: {self._location}, Host: {self.host_name}, Total Attendees: {self.get_total_attendees()})\"\n",
    "\n",
    "# PublicEvent subclass\n",
    "class PublicEvent(Event):\n",
    "    def __init__(self, name, date, time, location, ticket_price):\n",
    "        super().__init__(name, date, time, location)\n",
    "        self.ticket_price = ticket_price\n",
    "\n",
    "    def get_event_info(self):\n",
    "        info = super().get_event_info()\n",
    "        info['Ticket Price'] = self.ticket_price\n",
    "        return info\n",
    "\n",
    "    def __str__(self):\n",
    "        return f\"PublicEvent(Name: {self._name}, Date: {self._date}, Time: {self._time}, Location: {self._location}, Ticket Price: {self.ticket_price}, Total Attendees: {self.get_total_attendees()})\"\n",
    "\n",
    "# Example usage\n",
    "if __name__ == \"__main__\":\n",
    "    # Create instances\n",
    "    private_event = PrivateEvent(\"John's Birthday\", \"2024-08-15\", \"18:00\", \"John's House\", \"John Doe\")\n",
    "    public_event = PublicEvent(\"Music Festival\", \"2024-09-10\", \"14:00\", \"Central Park\", 50)\n",
    "\n",
    "    # Create events\n",
    "    private_event.create_event()\n",
    "    public_event.create_event()\n",
    "\n",
    "    # Add and remove attendees\n",
    "    private_event.add_attendee(\"Alice\")\n",
    "    private_event.add_attendee(\"Bob\")\n",
    "    private_event.remove_attendee(\"Alice\")\n",
    "\n",
    "    public_event.add_attendee(\"Charlie\")\n",
    "    public_event.add_attendee(\"Diana\")\n",
    "\n",
    "    # Print event information\n",
    "    print(private_event)\n",
    "    print(public_event)\n",
    "\n",
    "    print(private_event.get_event_info())\n",
    "    print(public_event.get_event_info())\n"
   ]
  },
  {
   "cell_type": "code",
   "execution_count": 191,
   "id": "66ba870c-7dbb-41df-b2df-8f7c4dce237a",
   "metadata": {},
   "outputs": [
    {
     "name": "stdout",
     "output_type": "stream",
     "text": [
      "Seat booked successfully on flight 'DL123'. Remaining seats: 149.\n",
      "Seat booked successfully on flight 'AA456'. Remaining seats: 199.\n",
      "Reservation cancelled successfully on flight 'DL123'. Available seats: 150.\n",
      "Reservation cancelled successfully on flight 'AA456'. Available seats: 200.\n",
      "DomesticFlight(Flight Number: DL123, Departure: LAX, Arrival: SFO, Departure Time: 2024-08-15 10:00, Arrival Time: 2024-08-15 11:30, State: California, Available Seats: 150)\n",
      "InternationalFlight(Flight Number: AA456, Departure: JFK, Arrival: LHR, Departure Time: 2024-09-01 20:00, Arrival Time: 2024-09-02 08:00, Country of Destination: United Kingdom, Available Seats: 200)\n",
      "{'Flight Number': 'DL123', 'Departure Airport': 'LAX', 'Arrival Airport': 'SFO', 'Departure Time': '2024-08-15 10:00', 'Arrival Time': '2024-08-15 11:30', 'Available Seats': 150, 'State': 'California'}\n",
      "{'Flight Number': 'AA456', 'Departure Airport': 'JFK', 'Arrival Airport': 'LHR', 'Departure Time': '2024-09-01 20:00', 'Arrival Time': '2024-09-02 08:00', 'Available Seats': 200, 'Country of Destination': 'United Kingdom'}\n"
     ]
    }
   ],
   "source": [
    "#10 airplane managemnet system\n",
    "import random\n",
    "from datetime import datetime\n",
    "\n",
    "# Base Flight class\n",
    "class Flight:\n",
    "    def __init__(self, flight_number, departure_airport, arrival_airport, departure_time, arrival_time, total_seats):\n",
    "        self._flight_number = flight_number\n",
    "        self._departure_airport = departure_airport\n",
    "        self._arrival_airport = arrival_airport\n",
    "        self._departure_time = departure_time\n",
    "        self._arrival_time = arrival_time\n",
    "        self.__id = self._generate_unique_id()\n",
    "        self.__available_seats = total_seats\n",
    "\n",
    "    def _generate_unique_id(self):\n",
    "        return random.randint(1000, 9999)  # Simple unique ID generator\n",
    "\n",
    "    def book_seat(self):\n",
    "        if self.__available_seats > 0:\n",
    "            self.__available_seats -= 1\n",
    "            print(f\"Seat booked successfully on flight '{self._flight_number}'. Remaining seats: {self.__available_seats}.\")\n",
    "        else:\n",
    "            print(f\"No seats available on flight '{self._flight_number}'.\")\n",
    "\n",
    "    def cancel_reservation(self):\n",
    "        self.__available_seats += 1\n",
    "        print(f\"Reservation cancelled successfully on flight '{self._flight_number}'. Available seats: {self.__available_seats}.\")\n",
    "\n",
    "    def get_remaining_seats(self):\n",
    "        return self.__available_seats\n",
    "\n",
    "    def get_flight_info(self):\n",
    "        return {\n",
    "            'Flight Number': self._flight_number,\n",
    "            'Departure Airport': self._departure_airport,\n",
    "            'Arrival Airport': self._arrival_airport,\n",
    "            'Departure Time': self._departure_time,\n",
    "            'Arrival Time': self._arrival_time,\n",
    "            'Available Seats': self.get_remaining_seats()\n",
    "        }\n",
    "\n",
    "    def __str__(self):\n",
    "        return f\"Flight(Flight Number: {self._flight_number}, Departure: {self._departure_airport}, Arrival: {self._arrival_airport}, Departure Time: {self._departure_time}, Arrival Time: {self._arrival_time}, Available Seats: {self.get_remaining_seats()})\"\n",
    "\n",
    "# DomesticFlight subclass\n",
    "class DomesticFlight(Flight):\n",
    "    def __init__(self, flight_number, departure_airport, arrival_airport, departure_time, arrival_time, total_seats, state):\n",
    "        super().__init__(flight_number, departure_airport, arrival_airport, departure_time, arrival_time, total_seats)\n",
    "        self.state = state\n",
    "\n",
    "    def get_flight_info(self):\n",
    "        info = super().get_flight_info()\n",
    "        info['State'] = self.state\n",
    "        return info\n",
    "\n",
    "    def __str__(self):\n",
    "        return f\"DomesticFlight(Flight Number: {self._flight_number}, Departure: {self._departure_airport}, Arrival: {self._arrival_airport}, Departure Time: {self._departure_time}, Arrival Time: {self._arrival_time}, State: {self.state}, Available Seats: {self.get_remaining_seats()})\"\n",
    "\n",
    "# InternationalFlight subclass\n",
    "class InternationalFlight(Flight):\n",
    "    def __init__(self, flight_number, departure_airport, arrival_airport, departure_time, arrival_time, total_seats, country_of_destination):\n",
    "        super().__init__(flight_number, departure_airport, arrival_airport, departure_time, arrival_time, total_seats)\n",
    "        self.country_of_destination = country_of_destination\n",
    "\n",
    "    def get_flight_info(self):\n",
    "        info = super().get_flight_info()\n",
    "        info['Country of Destination'] = self.country_of_destination\n",
    "        return info\n",
    "\n",
    "    def __str__(self):\n",
    "        return f\"InternationalFlight(Flight Number: {self._flight_number}, Departure: {self._departure_airport}, Arrival: {self._arrival_airport}, Departure Time: {self._departure_time}, Arrival Time: {self._arrival_time}, Country of Destination: {self.country_of_destination}, Available Seats: {self.get_remaining_seats()})\"\n",
    "\n",
    "# Example usage\n",
    "if __name__ == \"__main__\":\n",
    "    # Create instances\n",
    "    domestic_flight = DomesticFlight(\"DL123\", \"LAX\", \"SFO\", \"2024-08-15 10:00\", \"2024-08-15 11:30\", 150, \"California\")\n",
    "    international_flight = InternationalFlight(\"AA456\", \"JFK\", \"LHR\", \"2024-09-01 20:00\", \"2024-09-02 08:00\", 200, \"United Kingdom\")\n",
    "\n",
    "    # Book seats\n",
    "    domestic_flight.book_seat()\n",
    "    international_flight.book_seat()\n",
    "\n",
    "    # Cancel reservations\n",
    "    domestic_flight.cancel_reservation()\n",
    "    international_flight.cancel_reservation()\n",
    "\n",
    "    # Print flight information\n",
    "    print(domestic_flight)\n",
    "    print(international_flight)\n",
    "\n",
    "    print(domestic_flight.get_flight_info())\n",
    "    print(international_flight.get_flight_info())\n"
   ]
  },
  {
   "cell_type": "code",
   "execution_count": 203,
   "id": "2bba1920-5c82-437c-8144-306e33cff938",
   "metadata": {},
   "outputs": [],
   "source": []
  },
  {
   "cell_type": "code",
   "execution_count": 1,
   "id": "e6b56554-ff92-478c-b6de-b5a9e58b206c",
   "metadata": {},
   "outputs": [
    {
     "ename": "NameError",
     "evalue": "name 'null' is not defined",
     "output_type": "error",
     "traceback": [
      "\u001b[0;31m---------------------------------------------------------------------------\u001b[0m",
      "\u001b[0;31mNameError\u001b[0m                                 Traceback (most recent call last)",
      "Cell \u001b[0;32mIn[1], line 1\u001b[0m\n\u001b[0;32m----> 1\u001b[0m \u001b[38;5;28;01mfrom\u001b[39;00m \u001b[38;5;21;01mconstants\u001b[39;00m \u001b[38;5;28;01mimport\u001b[39;00m PI, SPEED_OF_LIGHT, GRAVITATIONAL_CONSTANT\n\u001b[1;32m      3\u001b[0m \u001b[38;5;28mprint\u001b[39m(\u001b[38;5;124m\"\u001b[39m\u001b[38;5;124mValue of Pi:\u001b[39m\u001b[38;5;124m\"\u001b[39m, PI)\n\u001b[1;32m      4\u001b[0m \u001b[38;5;28mprint\u001b[39m(\u001b[38;5;124m\"\u001b[39m\u001b[38;5;124mSpeed of Light:\u001b[39m\u001b[38;5;124m\"\u001b[39m, SPEED_OF_LIGHT, \u001b[38;5;124m\"\u001b[39m\u001b[38;5;124mmeters per second\u001b[39m\u001b[38;5;124m\"\u001b[39m)\n",
      "File \u001b[0;32m~/Documents/Python/constants.py:37\u001b[0m\n\u001b[1;32m      1\u001b[0m {\n\u001b[1;32m      2\u001b[0m  \u001b[38;5;124m\"\u001b[39m\u001b[38;5;124mcells\u001b[39m\u001b[38;5;124m\"\u001b[39m: [\n\u001b[1;32m      3\u001b[0m   {\n\u001b[1;32m      4\u001b[0m    \u001b[38;5;124m\"\u001b[39m\u001b[38;5;124mcell_type\u001b[39m\u001b[38;5;124m\"\u001b[39m: \u001b[38;5;124m\"\u001b[39m\u001b[38;5;124mcode\u001b[39m\u001b[38;5;124m\"\u001b[39m,\n\u001b[1;32m      5\u001b[0m    \u001b[38;5;124m\"\u001b[39m\u001b[38;5;124mexecution_count\u001b[39m\u001b[38;5;124m\"\u001b[39m: \u001b[38;5;241m1\u001b[39m,\n\u001b[1;32m      6\u001b[0m    \u001b[38;5;124m\"\u001b[39m\u001b[38;5;124mid\u001b[39m\u001b[38;5;124m\"\u001b[39m: \u001b[38;5;124m\"\u001b[39m\u001b[38;5;124m43f89cb8-9aa8-47a2-84f5-214cb4648fc4\u001b[39m\u001b[38;5;124m\"\u001b[39m,\n\u001b[1;32m      7\u001b[0m    \u001b[38;5;124m\"\u001b[39m\u001b[38;5;124mmetadata\u001b[39m\u001b[38;5;124m\"\u001b[39m: {},\n\u001b[1;32m      8\u001b[0m    \u001b[38;5;124m\"\u001b[39m\u001b[38;5;124moutputs\u001b[39m\u001b[38;5;124m\"\u001b[39m: [],\n\u001b[1;32m      9\u001b[0m    \u001b[38;5;124m\"\u001b[39m\u001b[38;5;124msource\u001b[39m\u001b[38;5;124m\"\u001b[39m: [\n\u001b[1;32m     10\u001b[0m     \u001b[38;5;124m\"\u001b[39m\u001b[38;5;124m#Define a Python module named constants.py containing constants like pi and the speed of light.\u001b[39m\u001b[38;5;130;01m\\n\u001b[39;00m\u001b[38;5;124m\"\u001b[39m,\n\u001b[1;32m     11\u001b[0m     \u001b[38;5;124m\"\u001b[39m\u001b[38;5;124m# constants.py\u001b[39m\u001b[38;5;130;01m\\n\u001b[39;00m\u001b[38;5;124m\"\u001b[39m,\n\u001b[1;32m     12\u001b[0m     \u001b[38;5;124m\"\u001b[39m\u001b[38;5;130;01m\\n\u001b[39;00m\u001b[38;5;124m\"\u001b[39m,\n\u001b[1;32m     13\u001b[0m     \u001b[38;5;124m\"\u001b[39m\u001b[38;5;124m# Mathematical constant: Pi\u001b[39m\u001b[38;5;130;01m\\n\u001b[39;00m\u001b[38;5;124m\"\u001b[39m,\n\u001b[1;32m     14\u001b[0m     \u001b[38;5;124m\"\u001b[39m\u001b[38;5;124mPI = 3.141592653589793\u001b[39m\u001b[38;5;130;01m\\n\u001b[39;00m\u001b[38;5;124m\"\u001b[39m,\n\u001b[1;32m     15\u001b[0m     \u001b[38;5;124m\"\u001b[39m\u001b[38;5;130;01m\\n\u001b[39;00m\u001b[38;5;124m\"\u001b[39m,\n\u001b[1;32m     16\u001b[0m     \u001b[38;5;124m\"\u001b[39m\u001b[38;5;124m# Speed of light in vacuum (meters per second)\u001b[39m\u001b[38;5;130;01m\\n\u001b[39;00m\u001b[38;5;124m\"\u001b[39m,\n\u001b[1;32m     17\u001b[0m     \u001b[38;5;124m\"\u001b[39m\u001b[38;5;124mSPEED_OF_LIGHT = 299792458\u001b[39m\u001b[38;5;130;01m\\n\u001b[39;00m\u001b[38;5;124m\"\u001b[39m,\n\u001b[1;32m     18\u001b[0m     \u001b[38;5;124m\"\u001b[39m\u001b[38;5;130;01m\\n\u001b[39;00m\u001b[38;5;124m\"\u001b[39m,\n\u001b[1;32m     19\u001b[0m     \u001b[38;5;124m\"\u001b[39m\u001b[38;5;124m# Gravitational constant (m^3 kg^(-1) s^(-2))\u001b[39m\u001b[38;5;130;01m\\n\u001b[39;00m\u001b[38;5;124m\"\u001b[39m,\n\u001b[1;32m     20\u001b[0m     \u001b[38;5;124m\"\u001b[39m\u001b[38;5;124mGRAVITATIONAL_CONSTANT = 6.67430e-11\u001b[39m\u001b[38;5;130;01m\\n\u001b[39;00m\u001b[38;5;124m\"\u001b[39m,\n\u001b[1;32m     21\u001b[0m     \u001b[38;5;124m\"\u001b[39m\u001b[38;5;130;01m\\n\u001b[39;00m\u001b[38;5;124m\"\u001b[39m,\n\u001b[1;32m     22\u001b[0m     \u001b[38;5;124m\"\u001b[39m\u001b[38;5;124m# Planck\u001b[39m\u001b[38;5;124m'\u001b[39m\u001b[38;5;124ms constant (Joule second)\u001b[39m\u001b[38;5;130;01m\\n\u001b[39;00m\u001b[38;5;124m\"\u001b[39m,\n\u001b[1;32m     23\u001b[0m     \u001b[38;5;124m\"\u001b[39m\u001b[38;5;124mPLANCK_CONSTANT = 6.62607015e-34\u001b[39m\u001b[38;5;130;01m\\n\u001b[39;00m\u001b[38;5;124m\"\u001b[39m,\n\u001b[1;32m     24\u001b[0m     \u001b[38;5;124m\"\u001b[39m\u001b[38;5;130;01m\\n\u001b[39;00m\u001b[38;5;124m\"\u001b[39m,\n\u001b[1;32m     25\u001b[0m     \u001b[38;5;124m\"\u001b[39m\u001b[38;5;124m# Universal gas constant (Joule per mole Kelvin)\u001b[39m\u001b[38;5;130;01m\\n\u001b[39;00m\u001b[38;5;124m\"\u001b[39m,\n\u001b[1;32m     26\u001b[0m     \u001b[38;5;124m\"\u001b[39m\u001b[38;5;124mUNIVERSAL_GAS_CONSTANT = 8.314462618\u001b[39m\u001b[38;5;130;01m\\n\u001b[39;00m\u001b[38;5;124m\"\u001b[39m,\n\u001b[1;32m     27\u001b[0m     \u001b[38;5;124m\"\u001b[39m\u001b[38;5;130;01m\\n\u001b[39;00m\u001b[38;5;124m\"\u001b[39m,\n\u001b[1;32m     28\u001b[0m     \u001b[38;5;124m\"\u001b[39m\u001b[38;5;124m# Avogadro\u001b[39m\u001b[38;5;124m'\u001b[39m\u001b[38;5;124ms number (per mole)\u001b[39m\u001b[38;5;130;01m\\n\u001b[39;00m\u001b[38;5;124m\"\u001b[39m,\n\u001b[1;32m     29\u001b[0m     \u001b[38;5;124m\"\u001b[39m\u001b[38;5;124mAVOGADRO_NUMBER = 6.02214076e23\u001b[39m\u001b[38;5;130;01m\\n\u001b[39;00m\u001b[38;5;124m\"\u001b[39m,\n\u001b[1;32m     30\u001b[0m     \u001b[38;5;124m\"\u001b[39m\u001b[38;5;130;01m\\n\u001b[39;00m\u001b[38;5;124m\"\u001b[39m,\n\u001b[1;32m     31\u001b[0m     \u001b[38;5;124m\"\u001b[39m\u001b[38;5;124m# Boltzmann constant (Joule per Kelvin)\u001b[39m\u001b[38;5;130;01m\\n\u001b[39;00m\u001b[38;5;124m\"\u001b[39m,\n\u001b[1;32m     32\u001b[0m     \u001b[38;5;124m\"\u001b[39m\u001b[38;5;124mBOLTZMANN_CONSTANT = 1.380649e-23\u001b[39m\u001b[38;5;130;01m\\n\u001b[39;00m\u001b[38;5;124m\"\u001b[39m\n\u001b[1;32m     33\u001b[0m    ]\n\u001b[1;32m     34\u001b[0m   },\n\u001b[1;32m     35\u001b[0m   {\n\u001b[1;32m     36\u001b[0m    \u001b[38;5;124m\"\u001b[39m\u001b[38;5;124mcell_type\u001b[39m\u001b[38;5;124m\"\u001b[39m: \u001b[38;5;124m\"\u001b[39m\u001b[38;5;124mcode\u001b[39m\u001b[38;5;124m\"\u001b[39m,\n\u001b[0;32m---> 37\u001b[0m    \u001b[38;5;124m\"\u001b[39m\u001b[38;5;124mexecution_count\u001b[39m\u001b[38;5;124m\"\u001b[39m: null,\n\u001b[1;32m     38\u001b[0m    \u001b[38;5;124m\"\u001b[39m\u001b[38;5;124mid\u001b[39m\u001b[38;5;124m\"\u001b[39m: \u001b[38;5;124m\"\u001b[39m\u001b[38;5;124m37f1911d-a048-42f5-b6b8-7bcca3eacc6f\u001b[39m\u001b[38;5;124m\"\u001b[39m,\n\u001b[1;32m     39\u001b[0m    \u001b[38;5;124m\"\u001b[39m\u001b[38;5;124mmetadata\u001b[39m\u001b[38;5;124m\"\u001b[39m: {},\n\u001b[1;32m     40\u001b[0m    \u001b[38;5;124m\"\u001b[39m\u001b[38;5;124moutputs\u001b[39m\u001b[38;5;124m\"\u001b[39m: [],\n\u001b[1;32m     41\u001b[0m    \u001b[38;5;124m\"\u001b[39m\u001b[38;5;124msource\u001b[39m\u001b[38;5;124m\"\u001b[39m: []\n\u001b[1;32m     42\u001b[0m   }\n\u001b[1;32m     43\u001b[0m  ],\n\u001b[1;32m     44\u001b[0m  \u001b[38;5;124m\"\u001b[39m\u001b[38;5;124mmetadata\u001b[39m\u001b[38;5;124m\"\u001b[39m: {\n\u001b[1;32m     45\u001b[0m   \u001b[38;5;124m\"\u001b[39m\u001b[38;5;124mkernelspec\u001b[39m\u001b[38;5;124m\"\u001b[39m: {\n\u001b[1;32m     46\u001b[0m    \u001b[38;5;124m\"\u001b[39m\u001b[38;5;124mdisplay_name\u001b[39m\u001b[38;5;124m\"\u001b[39m: \u001b[38;5;124m\"\u001b[39m\u001b[38;5;124mPython 3 (ipykernel)\u001b[39m\u001b[38;5;124m\"\u001b[39m,\n\u001b[1;32m     47\u001b[0m    \u001b[38;5;124m\"\u001b[39m\u001b[38;5;124mlanguage\u001b[39m\u001b[38;5;124m\"\u001b[39m: \u001b[38;5;124m\"\u001b[39m\u001b[38;5;124mpython\u001b[39m\u001b[38;5;124m\"\u001b[39m,\n\u001b[1;32m     48\u001b[0m    \u001b[38;5;124m\"\u001b[39m\u001b[38;5;124mname\u001b[39m\u001b[38;5;124m\"\u001b[39m: \u001b[38;5;124m\"\u001b[39m\u001b[38;5;124mpython3\u001b[39m\u001b[38;5;124m\"\u001b[39m\n\u001b[1;32m     49\u001b[0m   },\n\u001b[1;32m     50\u001b[0m   \u001b[38;5;124m\"\u001b[39m\u001b[38;5;124mlanguage_info\u001b[39m\u001b[38;5;124m\"\u001b[39m: {\n\u001b[1;32m     51\u001b[0m    \u001b[38;5;124m\"\u001b[39m\u001b[38;5;124mcodemirror_mode\u001b[39m\u001b[38;5;124m\"\u001b[39m: {\n\u001b[1;32m     52\u001b[0m     \u001b[38;5;124m\"\u001b[39m\u001b[38;5;124mname\u001b[39m\u001b[38;5;124m\"\u001b[39m: \u001b[38;5;124m\"\u001b[39m\u001b[38;5;124mipython\u001b[39m\u001b[38;5;124m\"\u001b[39m,\n\u001b[1;32m     53\u001b[0m     \u001b[38;5;124m\"\u001b[39m\u001b[38;5;124mversion\u001b[39m\u001b[38;5;124m\"\u001b[39m: \u001b[38;5;241m3\u001b[39m\n\u001b[1;32m     54\u001b[0m    },\n\u001b[1;32m     55\u001b[0m    \u001b[38;5;124m\"\u001b[39m\u001b[38;5;124mfile_extension\u001b[39m\u001b[38;5;124m\"\u001b[39m: \u001b[38;5;124m\"\u001b[39m\u001b[38;5;124m.py\u001b[39m\u001b[38;5;124m\"\u001b[39m,\n\u001b[1;32m     56\u001b[0m    \u001b[38;5;124m\"\u001b[39m\u001b[38;5;124mmimetype\u001b[39m\u001b[38;5;124m\"\u001b[39m: \u001b[38;5;124m\"\u001b[39m\u001b[38;5;124mtext/x-python\u001b[39m\u001b[38;5;124m\"\u001b[39m,\n\u001b[1;32m     57\u001b[0m    \u001b[38;5;124m\"\u001b[39m\u001b[38;5;124mname\u001b[39m\u001b[38;5;124m\"\u001b[39m: \u001b[38;5;124m\"\u001b[39m\u001b[38;5;124mpython\u001b[39m\u001b[38;5;124m\"\u001b[39m,\n\u001b[1;32m     58\u001b[0m    \u001b[38;5;124m\"\u001b[39m\u001b[38;5;124mnbconvert_exporter\u001b[39m\u001b[38;5;124m\"\u001b[39m: \u001b[38;5;124m\"\u001b[39m\u001b[38;5;124mpython\u001b[39m\u001b[38;5;124m\"\u001b[39m,\n\u001b[1;32m     59\u001b[0m    \u001b[38;5;124m\"\u001b[39m\u001b[38;5;124mpygments_lexer\u001b[39m\u001b[38;5;124m\"\u001b[39m: \u001b[38;5;124m\"\u001b[39m\u001b[38;5;124mipython3\u001b[39m\u001b[38;5;124m\"\u001b[39m,\n\u001b[1;32m     60\u001b[0m    \u001b[38;5;124m\"\u001b[39m\u001b[38;5;124mversion\u001b[39m\u001b[38;5;124m\"\u001b[39m: \u001b[38;5;124m\"\u001b[39m\u001b[38;5;124m3.12.4\u001b[39m\u001b[38;5;124m\"\u001b[39m\n\u001b[1;32m     61\u001b[0m   }\n\u001b[1;32m     62\u001b[0m  },\n\u001b[1;32m     63\u001b[0m  \u001b[38;5;124m\"\u001b[39m\u001b[38;5;124mnbformat\u001b[39m\u001b[38;5;124m\"\u001b[39m: \u001b[38;5;241m4\u001b[39m,\n\u001b[1;32m     64\u001b[0m  \u001b[38;5;124m\"\u001b[39m\u001b[38;5;124mnbformat_minor\u001b[39m\u001b[38;5;124m\"\u001b[39m: \u001b[38;5;241m5\u001b[39m\n\u001b[1;32m     65\u001b[0m }\n",
      "\u001b[0;31mNameError\u001b[0m: name 'null' is not defined"
     ]
    }
   ],
   "source": [
    "from constants import PI, SPEED_OF_LIGHT, GRAVITATIONAL_CONSTANT\n",
    "\n",
    "print(\"Value of Pi:\", PI)\n",
    "print(\"Speed of Light:\", SPEED_OF_LIGHT, \"meters per second\")\n",
    "print(\"Gravitational Constant:\", GRAVITATIONAL_CONSTANT, \"m^3 kg^(-1) s^(-2)\")\n"
   ]
  },
  {
   "cell_type": "code",
   "execution_count": 5,
   "id": "e2c9d73f-a149-470c-961c-b5dd4ac1aa2a",
   "metadata": {},
   "outputs": [
    {
     "ename": "NameError",
     "evalue": "name 'null' is not defined",
     "output_type": "error",
     "traceback": [
      "\u001b[0;31m---------------------------------------------------------------------------\u001b[0m",
      "\u001b[0;31mNameError\u001b[0m                                 Traceback (most recent call last)",
      "Cell \u001b[0;32mIn[5], line 1\u001b[0m\n\u001b[0;32m----> 1\u001b[0m \u001b[38;5;28;01mimport\u001b[39;00m \u001b[38;5;21;01mcalculator\u001b[39;00m\u001b[38;5;21;01m.\u001b[39;00m\u001b[38;5;21;01mpy\u001b[39;00m\n\u001b[1;32m      2\u001b[0m \u001b[38;5;66;03m#from calculator import \u001b[39;00m\n\u001b[1;32m      3\u001b[0m a \u001b[38;5;241m=\u001b[39m \u001b[38;5;241m10\u001b[39m\n",
      "File \u001b[0;32m~/Documents/Python/calculator.py:32\u001b[0m\n\u001b[1;32m      1\u001b[0m {\n\u001b[1;32m      2\u001b[0m  \u001b[38;5;124m\"\u001b[39m\u001b[38;5;124mcells\u001b[39m\u001b[38;5;124m\"\u001b[39m: [\n\u001b[1;32m      3\u001b[0m   {\n\u001b[1;32m      4\u001b[0m    \u001b[38;5;124m\"\u001b[39m\u001b[38;5;124mcell_type\u001b[39m\u001b[38;5;124m\"\u001b[39m: \u001b[38;5;124m\"\u001b[39m\u001b[38;5;124mcode\u001b[39m\u001b[38;5;124m\"\u001b[39m,\n\u001b[1;32m      5\u001b[0m    \u001b[38;5;124m\"\u001b[39m\u001b[38;5;124mexecution_count\u001b[39m\u001b[38;5;124m\"\u001b[39m: \u001b[38;5;241m3\u001b[39m,\n\u001b[1;32m      6\u001b[0m    \u001b[38;5;124m\"\u001b[39m\u001b[38;5;124mid\u001b[39m\u001b[38;5;124m\"\u001b[39m: \u001b[38;5;124m\"\u001b[39m\u001b[38;5;124md4d437a5-ff85-433e-8b17-4d35a57b26f1\u001b[39m\u001b[38;5;124m\"\u001b[39m,\n\u001b[1;32m      7\u001b[0m    \u001b[38;5;124m\"\u001b[39m\u001b[38;5;124mmetadata\u001b[39m\u001b[38;5;124m\"\u001b[39m: {},\n\u001b[1;32m      8\u001b[0m    \u001b[38;5;124m\"\u001b[39m\u001b[38;5;124moutputs\u001b[39m\u001b[38;5;124m\"\u001b[39m: [],\n\u001b[1;32m      9\u001b[0m    \u001b[38;5;124m\"\u001b[39m\u001b[38;5;124msource\u001b[39m\u001b[38;5;124m\"\u001b[39m: [\n\u001b[1;32m     10\u001b[0m     \u001b[38;5;124m\"\u001b[39m\u001b[38;5;124m# calculator.py\u001b[39m\u001b[38;5;130;01m\\n\u001b[39;00m\u001b[38;5;124m\"\u001b[39m,\n\u001b[1;32m     11\u001b[0m     \u001b[38;5;124m\"\u001b[39m\u001b[38;5;130;01m\\n\u001b[39;00m\u001b[38;5;124m\"\u001b[39m,\n\u001b[1;32m     12\u001b[0m     \u001b[38;5;124m\"\u001b[39m\u001b[38;5;124mdef add(x, y):\u001b[39m\u001b[38;5;130;01m\\n\u001b[39;00m\u001b[38;5;124m\"\u001b[39m,\n\u001b[1;32m     13\u001b[0m     \u001b[38;5;124m\"\u001b[39m\u001b[38;5;130;01m\\n\u001b[39;00m\u001b[38;5;124m\"\u001b[39m,\n\u001b[1;32m     14\u001b[0m     \u001b[38;5;124m\"\u001b[39m\u001b[38;5;124m    return x + y\u001b[39m\u001b[38;5;130;01m\\n\u001b[39;00m\u001b[38;5;124m\"\u001b[39m,\n\u001b[1;32m     15\u001b[0m     \u001b[38;5;124m\"\u001b[39m\u001b[38;5;130;01m\\n\u001b[39;00m\u001b[38;5;124m\"\u001b[39m,\n\u001b[1;32m     16\u001b[0m     \u001b[38;5;124m\"\u001b[39m\u001b[38;5;124mdef subtract(x, y):\u001b[39m\u001b[38;5;130;01m\\n\u001b[39;00m\u001b[38;5;124m\"\u001b[39m,\n\u001b[1;32m     17\u001b[0m     \u001b[38;5;124m\"\u001b[39m\u001b[38;5;130;01m\\n\u001b[39;00m\u001b[38;5;124m\"\u001b[39m,\n\u001b[1;32m     18\u001b[0m     \u001b[38;5;124m\"\u001b[39m\u001b[38;5;124m    return x - y\u001b[39m\u001b[38;5;130;01m\\n\u001b[39;00m\u001b[38;5;124m\"\u001b[39m,\n\u001b[1;32m     19\u001b[0m     \u001b[38;5;124m\"\u001b[39m\u001b[38;5;130;01m\\n\u001b[39;00m\u001b[38;5;124m\"\u001b[39m,\n\u001b[1;32m     20\u001b[0m     \u001b[38;5;124m\"\u001b[39m\u001b[38;5;124mdef multiply(x, y):\u001b[39m\u001b[38;5;130;01m\\n\u001b[39;00m\u001b[38;5;124m\"\u001b[39m,\n\u001b[1;32m     21\u001b[0m     \u001b[38;5;124m\"\u001b[39m\u001b[38;5;130;01m\\n\u001b[39;00m\u001b[38;5;124m\"\u001b[39m,\n\u001b[1;32m     22\u001b[0m     \u001b[38;5;124m\"\u001b[39m\u001b[38;5;124m    return x * y\u001b[39m\u001b[38;5;130;01m\\n\u001b[39;00m\u001b[38;5;124m\"\u001b[39m,\n\u001b[1;32m     23\u001b[0m     \u001b[38;5;124m\"\u001b[39m\u001b[38;5;130;01m\\n\u001b[39;00m\u001b[38;5;124m\"\u001b[39m,\n\u001b[1;32m     24\u001b[0m     \u001b[38;5;124m\"\u001b[39m\u001b[38;5;124mdef divide(x, y):\u001b[39m\u001b[38;5;130;01m\\n\u001b[39;00m\u001b[38;5;124m\"\u001b[39m,\n\u001b[1;32m     25\u001b[0m     \u001b[38;5;124m\"\u001b[39m\u001b[38;5;124m    if y == 0:\u001b[39m\u001b[38;5;130;01m\\n\u001b[39;00m\u001b[38;5;124m\"\u001b[39m,\n\u001b[1;32m     26\u001b[0m     \u001b[38;5;124m\"\u001b[39m\u001b[38;5;124m        raise ValueError(\u001b[39m\u001b[38;5;130;01m\\\"\u001b[39;00m\u001b[38;5;124mCannot divide by zero.\u001b[39m\u001b[38;5;130;01m\\\"\u001b[39;00m\u001b[38;5;124m)\u001b[39m\u001b[38;5;130;01m\\n\u001b[39;00m\u001b[38;5;124m\"\u001b[39m,\n\u001b[1;32m     27\u001b[0m     \u001b[38;5;124m\"\u001b[39m\u001b[38;5;124m    return x / y\u001b[39m\u001b[38;5;130;01m\\n\u001b[39;00m\u001b[38;5;124m\"\u001b[39m\n\u001b[1;32m     28\u001b[0m    ]\n\u001b[1;32m     29\u001b[0m   },\n\u001b[1;32m     30\u001b[0m   {\n\u001b[1;32m     31\u001b[0m    \u001b[38;5;124m\"\u001b[39m\u001b[38;5;124mcell_type\u001b[39m\u001b[38;5;124m\"\u001b[39m: \u001b[38;5;124m\"\u001b[39m\u001b[38;5;124mcode\u001b[39m\u001b[38;5;124m\"\u001b[39m,\n\u001b[0;32m---> 32\u001b[0m    \u001b[38;5;124m\"\u001b[39m\u001b[38;5;124mexecution_count\u001b[39m\u001b[38;5;124m\"\u001b[39m: null,\n\u001b[1;32m     33\u001b[0m    \u001b[38;5;124m\"\u001b[39m\u001b[38;5;124mid\u001b[39m\u001b[38;5;124m\"\u001b[39m: \u001b[38;5;124m\"\u001b[39m\u001b[38;5;124m31f50d64-9aff-4c63-8286-d562fe0a7100\u001b[39m\u001b[38;5;124m\"\u001b[39m,\n\u001b[1;32m     34\u001b[0m    \u001b[38;5;124m\"\u001b[39m\u001b[38;5;124mmetadata\u001b[39m\u001b[38;5;124m\"\u001b[39m: {},\n\u001b[1;32m     35\u001b[0m    \u001b[38;5;124m\"\u001b[39m\u001b[38;5;124moutputs\u001b[39m\u001b[38;5;124m\"\u001b[39m: [],\n\u001b[1;32m     36\u001b[0m    \u001b[38;5;124m\"\u001b[39m\u001b[38;5;124msource\u001b[39m\u001b[38;5;124m\"\u001b[39m: []\n\u001b[1;32m     37\u001b[0m   }\n\u001b[1;32m     38\u001b[0m  ],\n\u001b[1;32m     39\u001b[0m  \u001b[38;5;124m\"\u001b[39m\u001b[38;5;124mmetadata\u001b[39m\u001b[38;5;124m\"\u001b[39m: {\n\u001b[1;32m     40\u001b[0m   \u001b[38;5;124m\"\u001b[39m\u001b[38;5;124mkernelspec\u001b[39m\u001b[38;5;124m\"\u001b[39m: {\n\u001b[1;32m     41\u001b[0m    \u001b[38;5;124m\"\u001b[39m\u001b[38;5;124mdisplay_name\u001b[39m\u001b[38;5;124m\"\u001b[39m: \u001b[38;5;124m\"\u001b[39m\u001b[38;5;124mPython 3 (ipykernel)\u001b[39m\u001b[38;5;124m\"\u001b[39m,\n\u001b[1;32m     42\u001b[0m    \u001b[38;5;124m\"\u001b[39m\u001b[38;5;124mlanguage\u001b[39m\u001b[38;5;124m\"\u001b[39m: \u001b[38;5;124m\"\u001b[39m\u001b[38;5;124mpython\u001b[39m\u001b[38;5;124m\"\u001b[39m,\n\u001b[1;32m     43\u001b[0m    \u001b[38;5;124m\"\u001b[39m\u001b[38;5;124mname\u001b[39m\u001b[38;5;124m\"\u001b[39m: \u001b[38;5;124m\"\u001b[39m\u001b[38;5;124mpython3\u001b[39m\u001b[38;5;124m\"\u001b[39m\n\u001b[1;32m     44\u001b[0m   },\n\u001b[1;32m     45\u001b[0m   \u001b[38;5;124m\"\u001b[39m\u001b[38;5;124mlanguage_info\u001b[39m\u001b[38;5;124m\"\u001b[39m: {\n\u001b[1;32m     46\u001b[0m    \u001b[38;5;124m\"\u001b[39m\u001b[38;5;124mcodemirror_mode\u001b[39m\u001b[38;5;124m\"\u001b[39m: {\n\u001b[1;32m     47\u001b[0m     \u001b[38;5;124m\"\u001b[39m\u001b[38;5;124mname\u001b[39m\u001b[38;5;124m\"\u001b[39m: \u001b[38;5;124m\"\u001b[39m\u001b[38;5;124mipython\u001b[39m\u001b[38;5;124m\"\u001b[39m,\n\u001b[1;32m     48\u001b[0m     \u001b[38;5;124m\"\u001b[39m\u001b[38;5;124mversion\u001b[39m\u001b[38;5;124m\"\u001b[39m: \u001b[38;5;241m3\u001b[39m\n\u001b[1;32m     49\u001b[0m    },\n\u001b[1;32m     50\u001b[0m    \u001b[38;5;124m\"\u001b[39m\u001b[38;5;124mfile_extension\u001b[39m\u001b[38;5;124m\"\u001b[39m: \u001b[38;5;124m\"\u001b[39m\u001b[38;5;124m.py\u001b[39m\u001b[38;5;124m\"\u001b[39m,\n\u001b[1;32m     51\u001b[0m    \u001b[38;5;124m\"\u001b[39m\u001b[38;5;124mmimetype\u001b[39m\u001b[38;5;124m\"\u001b[39m: \u001b[38;5;124m\"\u001b[39m\u001b[38;5;124mtext/x-python\u001b[39m\u001b[38;5;124m\"\u001b[39m,\n\u001b[1;32m     52\u001b[0m    \u001b[38;5;124m\"\u001b[39m\u001b[38;5;124mname\u001b[39m\u001b[38;5;124m\"\u001b[39m: \u001b[38;5;124m\"\u001b[39m\u001b[38;5;124mpython\u001b[39m\u001b[38;5;124m\"\u001b[39m,\n\u001b[1;32m     53\u001b[0m    \u001b[38;5;124m\"\u001b[39m\u001b[38;5;124mnbconvert_exporter\u001b[39m\u001b[38;5;124m\"\u001b[39m: \u001b[38;5;124m\"\u001b[39m\u001b[38;5;124mpython\u001b[39m\u001b[38;5;124m\"\u001b[39m,\n\u001b[1;32m     54\u001b[0m    \u001b[38;5;124m\"\u001b[39m\u001b[38;5;124mpygments_lexer\u001b[39m\u001b[38;5;124m\"\u001b[39m: \u001b[38;5;124m\"\u001b[39m\u001b[38;5;124mipython3\u001b[39m\u001b[38;5;124m\"\u001b[39m,\n\u001b[1;32m     55\u001b[0m    \u001b[38;5;124m\"\u001b[39m\u001b[38;5;124mversion\u001b[39m\u001b[38;5;124m\"\u001b[39m: \u001b[38;5;124m\"\u001b[39m\u001b[38;5;124m3.12.4\u001b[39m\u001b[38;5;124m\"\u001b[39m\n\u001b[1;32m     56\u001b[0m   }\n\u001b[1;32m     57\u001b[0m  },\n\u001b[1;32m     58\u001b[0m  \u001b[38;5;124m\"\u001b[39m\u001b[38;5;124mnbformat\u001b[39m\u001b[38;5;124m\"\u001b[39m: \u001b[38;5;241m4\u001b[39m,\n\u001b[1;32m     59\u001b[0m  \u001b[38;5;124m\"\u001b[39m\u001b[38;5;124mnbformat_minor\u001b[39m\u001b[38;5;124m\"\u001b[39m: \u001b[38;5;241m5\u001b[39m\n\u001b[1;32m     60\u001b[0m }\n",
      "\u001b[0;31mNameError\u001b[0m: name 'null' is not defined"
     ]
    }
   ],
   "source": [
    "import calculator.py\n",
    "#from calculator import \n",
    "a = 10\n",
    "b = 5\n",
    "print(\"Addition:\", calculator.add(a, b))\n",
    "print(\"Subtraction:\", calculator.subtract(a, b))\n",
    "print(\"Multiplication:\", calculator.multiply(a, b))\n",
    "print(\"Division:\", calculator.divide(a, b))\n",
    "\n",
    "# Handling division by zero\n",
    "try:\n",
    "    print(\"Division by zero:\", calculator.divide(a, 0))\n",
    "except ValueError as e:\n",
    "    print(e)\n"
   ]
  },
  {
   "cell_type": "code",
   "execution_count": 53,
   "id": "a571072a-15f6-426c-8287-a54d4d474cda",
   "metadata": {},
   "outputs": [
    {
     "name": "stdout",
     "output_type": "stream",
     "text": [
      "File Content:\n",
      "This is the initial content.\n",
      "This is the appended content.\n",
      "\n"
     ]
    }
   ],
   "source": [
    "import os\n",
    "file_path = 'Documents/Python/text.txt'\n",
    "def read_file(file_path):\n",
    "    \"\"\"Read data from a file.\n",
    "    \n",
    "    Args:\n",
    "        file_path (str): The path to the file to be read.\n",
    "    \n",
    "    Returns:\n",
    "        str: The content of the file.\n",
    "    \"\"\"\n",
    "    if not os.path.isfile(file_path):\n",
    "        raise FileNotFoundError(f\"The file at {file_path} does not exist.\")\n",
    "    \n",
    "    with open(file_path, 'r') as file:\n",
    "        return file.read()\n",
    "\n",
    "def write_file(file_path, data):\n",
    "    \"\"\"Write data to a file, overwriting the file if it exists.\n",
    "    \n",
    "    Args:\n",
    "        file_path (str): The path to the file where data will be written.\n",
    "        data (str): The data to be written to the file.\n",
    "    \"\"\"\n",
    "    with open(file_path, 'w') as file:\n",
    "        file.write(data)\n",
    "\n",
    "def append_to_file(file_path, data):\n",
    "    \"\"\"Append data to a file.\n",
    "    \n",
    "    Args:\n",
    "        file_path (str): The path to the file where data will be appended.\n",
    "        data (str): The data to be appended to the file.\n",
    "    \"\"\"\n",
    "    with open(file_path, 'a') as file:\n",
    "        file.write(data)\n",
    "\n",
    "# Example usage:\n",
    "if __name__ == '__main__':\n",
    "    # Path to the file\n",
    "    file_path = 'text.txt'\n",
    "\n",
    "    # Write data to the file\n",
    "    write_file(file_path, 'This is the initial content.\\n')\n",
    "\n",
    "    # Append data to the file\n",
    "    append_to_file(file_path, 'This is the appended content.\\n')\n",
    "\n",
    "    # Read data from the file\n",
    "    content = read_file(file_path)\n",
    "    print('File Content:')\n",
    "    print(content)\n"
   ]
  },
  {
   "cell_type": "code",
   "execution_count": null,
   "id": "e91feda1-f852-483a-b149-eb6a8b326fc2",
   "metadata": {},
   "outputs": [],
   "source": [
    "def write_employee_details(file_path, employee_data):\n",
    "    \"\"\"Write employee details to a file.\n",
    "    \n",
    "    Args:\n",
    "        file_path (str): The path to the file where data will be written.\n",
    "        employee_data (list of tuples): Each tuple contains (name, age, salary).\n",
    "    \"\"\"\n",
    "    with open(file_path, 'w') as file:\n",
    "        for employee in employee_data:\n",
    "            name, age, salary = employee\n",
    "            file.write(f\"Name: {name}, Age: {age}, Salary: {salary}\\n\")\n",
    "\n",
    "def get_employee_details():\n",
    "    \"\"\"Prompt user to enter employee details.\n",
    "    \n",
    "    Returns:\n",
    "        list of tuples: Each tuple contains (name, age, salary).\n",
    "    \"\"\"\n",
    "    employees = []\n",
    "    while True:\n",
    "        name = input(\"Enter employee name (or type 'done' to finish): \")\n",
    "        if name.lower() == 'done':\n",
    "            break\n",
    "        age = input(\"Enter employee age: \")\n",
    "        salary = input(\"Enter employee salary: \")\n",
    "        employees.append((name, age, salary))\n",
    "    return employees\n",
    "\n",
    "def main():\n",
    "    file_path = 'Documents/Python/employees.txt'\n",
    "    print(\"Please enter employee details. Type 'done' when finished.\")\n",
    "    employee_data = get_employee_details()\n",
    "    write_employee_details(file_path, employee_data)\n",
    "    print(f\"Employee details have been written to {file_path}\")\n",
    "\n",
    "if __name__ == \"__main__\":\n",
    "    main()\n"
   ]
  },
  {
   "cell_type": "code",
   "execution_count": null,
   "id": "52a1ba19-ee24-463d-b8ca-4eb35013b136",
   "metadata": {},
   "outputs": [],
   "source": []
  },
  {
   "cell_type": "code",
   "execution_count": null,
   "id": "6137ac4c-e4e8-4be5-a69c-5314894f5af1",
   "metadata": {},
   "outputs": [],
   "source": []
  },
  {
   "cell_type": "code",
   "execution_count": null,
   "id": "db915895-447c-48fd-9ee2-9241e4591d67",
   "metadata": {},
   "outputs": [],
   "source": []
  },
  {
   "cell_type": "code",
   "execution_count": null,
   "id": "7d5825d7-efeb-43e9-938c-e8c277aa4e15",
   "metadata": {},
   "outputs": [],
   "source": []
  },
  {
   "cell_type": "code",
   "execution_count": 7,
   "id": "6f058f2d-7e63-47e6-a2e1-54823bc442d1",
   "metadata": {},
   "outputs": [
    {
     "data": {
      "image/png": "[encoded data removed]",
      "text/plain": [
       "<Figure size 1800x500 with 3 Axes>"
      ]
     },
     "metadata": {},
     "output_type": "display_data"
    }
   ],
   "source": [
    "#20 \n",
    "import matplotlib.pyplot as plt\n",
    "import seaborn as sns\n",
    "import numpy as np\n",
    "\n",
    "# Generate data\n",
    "np.random.seed(0)\n",
    "\n",
    "# Positive Skewness\n",
    "data_pos_skew = np.random.exponential(scale=2, size=1000)\n",
    "\n",
    "# Negative Skewness\n",
    "data_neg_skew = -np.random.exponential(scale=2, size=1000)\n",
    "\n",
    "# Zero Skewness\n",
    "data_zero_skew = np.random.normal(loc=0, scale=1, size=1000)\n",
    "\n",
    "# Create subplots\n",
    "fig, axes = plt.subplots(1, 3, figsize=(18, 5))\n",
    "\n",
    "# Positive Skewness\n",
    "sns.histplot(data_pos_skew, kde=True, ax=axes[0], color='blue')\n",
    "axes[0].set_title('Positive Skewness (Right Skewness)')\n",
    "\n",
    "# Negative Skewness\n",
    "sns.histplot(data_neg_skew, kde=True, ax=axes[1], color='red')\n",
    "axes[1].set_title('Negative Skewness (Left Skewness)')\n",
    "\n",
    "# Zero Skewness\n",
    "sns.histplot(data_zero_skew, kde=True, ax=axes[2], color='green')\n",
    "axes[2].set_title('Zero Skewness (Symmetrical)')\n",
    "\n",
    "# Display the plots\n",
    "plt.tight_layout()\n",
    "plt.show()\n"
   ]
  },
  {
   "cell_type": "code",
   "execution_count": 9,
   "id": "2dea3c01-3580-41c0-a802-7fc9160a2309",
   "metadata": {},
   "outputs": [
    {
     "name": "stdout",
     "output_type": "stream",
     "text": [
      "Pearson Correlation Coefficient: 0.90\n"
     ]
    }
   ],
   "source": [
    "#24\n",
    "import numpy as np\n",
    "\n",
    "# Step 1: Input the data\n",
    "accountancy_marks = np.array([45, 70, 65, 30, 90, 40, 50, 75, 85, 60])\n",
    "statistics_marks = np.array([35, 90, 70, 40, 95, 40,60, 80, 80, 50])\n",
    "\n",
    "# Number of observations\n",
    "n = len(accountancy_marks)\n",
    "\n",
    "# Step 2: Calculate necessary summations\n",
    "sum_x = np.sum(accountancy_marks)\n",
    "sum_y = np.sum(statistics_marks)\n",
    "sum_x_squared = np.sum(accountancy_marks ** 2)\n",
    "sum_y_squared = np.sum(statistics_marks ** 2)\n",
    "sum_xy = np.sum(accountancy_marks * statistics_marks)\n",
    "\n",
    "# Step 3: Calculate the Pearson correlation coefficient\n",
    "numerator = n * sum_xy - sum_x * sum_y\n",
    "denominator = np.sqrt((n * sum_x_squared - sum_x ** 2) * (n * sum_y_squared - sum_y ** 2))\n",
    "\n",
    "# Pearson correlation coefficient\n",
    "pearson_corr = numerator / denominator\n",
    "\n",
    "# Step 4: Print the result\n",
    "print(f\"Pearson Correlation Coefficient: {pearson_corr:.2f}\")\n",
    "\n"
   ]
  },
  {
   "cell_type": "code",
   "execution_count": 11,
   "id": "63f804cc-5d3d-4241-a7fc-654181b10da5",
   "metadata": {},
   "outputs": [
    {
     "name": "stdout",
     "output_type": "stream",
     "text": [
      "The most likely price at Delhi corresponding to the price of Rs. 70 at Agra is approximately Rs. 56.00\n"
     ]
    }
   ],
   "source": [
    "#26 # Define the given data\n",
    "correlation_coefficient = 0.8\n",
    "price_at_agra = 70\n",
    "\n",
    "# Estimate the price at Delhi using the correlation coefficient\n",
    "# For this example, we'll directly use the correlation to scale the price.\n",
    "# Note: This assumes a proportional relationship and should be adjusted with actual mean and std deviation if available.\n",
    "estimated_price_at_delhi = correlation_coefficient * price_at_agra\n",
    "\n",
    "print(f\"The most likely price at Delhi corresponding to the price of Rs. {price_at_agra} at Agra is approximately Rs. {estimated_price_at_delhi:.2f}\")\n"
   ]
  },
  {
   "cell_type": "code",
   "execution_count": 13,
   "id": "2de7d113-9852-443a-9fc4-71242014af09",
   "metadata": {},
   "outputs": [
    {
     "name": "stdout",
     "output_type": "stream",
     "text": [
      "Mean value of x (x_bar): -13.00\n",
      "Mean value of y (y_bar): -17.00\n",
      "Coefficient of correlation (r): 0.60\n",
      "Standard deviation of y (σ_y): 2.40\n"
     ]
    }
   ],
   "source": [
    "#27\n",
    "import numpy as np\n",
    "\n",
    "# Given data\n",
    "variance_x = 9\n",
    "regression_eq1 = (8, -10, -66)  # 8x - 10y = -66\n",
    "regression_eq2 = (40, -18, 214) # 40x - 18y = 214\n",
    "\n",
    "# Unpack regression coefficients\n",
    "a1, b1, c1 = regression_eq1\n",
    "a2, b2, c2 = regression_eq2\n",
    "\n",
    "# Calculate mean values (x_bar and y_bar)\n",
    "# Solving the system of linear equations\n",
    "# a1*x - b1*y = c1\n",
    "# a2*x - b2*y = c2\n",
    "\n",
    "# Create matrices for the equations\n",
    "A = np.array([[a1, b1], [a2, b2]])\n",
    "B = np.array([-c1, -c2])\n",
    "\n",
    "# Solve for x_bar and y_bar\n",
    "mean_values = np.linalg.solve(A, B)\n",
    "x_bar, y_bar = mean_values\n",
    "\n",
    "# Calculate slopes from regression equations\n",
    "slope_y_on_x = a1 / -b1\n",
    "slope_x_on_y = a2 / -b2\n",
    "\n",
    "# Calculate the coefficient of correlation\n",
    "r_squared = slope_y_on_x / slope_x_on_y\n",
    "r = np.sqrt(r_squared)\n",
    "\n",
    "# Calculate standard deviation of y\n",
    "sigma_x = np.sqrt(variance_x)\n",
    "sigma_y = slope_y_on_x * sigma_x\n",
    "\n",
    "# Print results\n",
    "print(f\"Mean value of x (x_bar): {x_bar:.2f}\")\n",
    "print(f\"Mean value of y (y_bar): {y_bar:.2f}\")\n",
    "print(f\"Coefficient of correlation (r): {r:.2f}\")\n",
    "print(f\"Standard deviation of y (σ_y): {sigma_y:.2f}\")\n"
   ]
  },
  {
   "cell_type": "code",
   "execution_count": 15,
   "id": "426a0db8-3ee6-4e64-87ab-e3dfaad02241",
   "metadata": {},
   "outputs": [
    {
     "name": "stdout",
     "output_type": "stream",
     "text": [
      "Percentage between 60 and 72: 38.49%\n",
      "Percentage between 50 and 60: 34.13%\n",
      "Percentage beyond 72: 11.51%\n",
      "Percentage between 70 and 80: 13.59%\n"
     ]
    }
   ],
   "source": [
    "#31\n",
    "import scipy.stats as stats\n",
    "\n",
    "# Given values\n",
    "mean = 60\n",
    "std_dev = 10\n",
    "\n",
    "# Convert X values to Z-scores\n",
    "def percentage_between(a, b, mean, std_dev):\n",
    "    z_a = (a - mean) / std_dev\n",
    "    z_b = (b - mean) / std_dev\n",
    "    return (stats.norm.cdf(z_b) - stats.norm.cdf(z_a)) * 100\n",
    "\n",
    "def percentage_beyond(x, mean, std_dev):\n",
    "    z = (x - mean) / std_dev\n",
    "    return (1 - stats.norm.cdf(z)) * 100\n",
    "\n",
    "# (i) Between 60 and 72\n",
    "percentage_60_72 = percentage_between(60, 72, mean, std_dev)\n",
    "print(f\"Percentage between 60 and 72: {percentage_60_72:.2f}%\")\n",
    "\n",
    "# (ii) Between 50 and 60\n",
    "percentage_50_60 = percentage_between(50, 60, mean, std_dev)\n",
    "print(f\"Percentage between 50 and 60: {percentage_50_60:.2f}%\")\n",
    "\n",
    "# (iii) Beyond 72\n",
    "percentage_beyond_72 = percentage_beyond(72, mean, std_dev)\n",
    "print(f\"Percentage beyond 72: {percentage_beyond_72:.2f}%\")\n",
    "\n",
    "# (iv) Between 70 and 80\n",
    "percentage_70_80 = percentage_between(70, 80, mean, std_dev)\n",
    "print(f\"Percentage between 70 and 80: {percentage_70_80:.2f}%\")\n"
   ]
  },
  {
   "cell_type": "code",
   "execution_count": 17,
   "id": "4babe3f8-9b2e-4ccb-906d-4e0005756f1a",
   "metadata": {},
   "outputs": [
    {
     "name": "stdout",
     "output_type": "stream",
     "text": [
      "Proportion of students scoring more than 55 marks: 0.1587\n",
      "Proportion of students scoring more than 70 marks: 0.0002\n"
     ]
    }
   ],
   "source": [
    "#32\n",
    "import scipy.stats as stats\n",
    "\n",
    "# Given values\n",
    "mean = 49\n",
    "std_dev = 6\n",
    "\n",
    "def proportion_more_than(x, mean, std_dev):\n",
    "    z = (x - mean) / std_dev\n",
    "    return 1 - stats.norm.cdf(z)\n",
    "\n",
    "# (a) More than 55 marks\n",
    "proportion_more_than_55 = proportion_more_than(55, mean, std_dev)\n",
    "print(f\"Proportion of students scoring more than 55 marks: {proportion_more_than_55:.4f}\")\n",
    "\n",
    "# (b) More than 70 marks\n",
    "proportion_more_than_70 = proportion_more_than(70, mean, std_dev)\n",
    "print(f\"Proportion of students scoring more than 70 marks: {proportion_more_than_70:.4f}\")\n"
   ]
  },
  {
   "cell_type": "code",
   "execution_count": 19,
   "id": "c08e3411-17c8-4148-a30c-ba7c00e1f3c0",
   "metadata": {},
   "outputs": [
    {
     "name": "stdout",
     "output_type": "stream",
     "text": [
      "Number of students with height greater than 70 inches: 79\n",
      "Number of students with height between 60 and 70 inches: 341\n"
     ]
    }
   ],
   "source": [
    "#33\n",
    "import scipy.stats as stats\n",
    "\n",
    "# Given values\n",
    "total_students = 500\n",
    "mean = 65\n",
    "std_dev = 5\n",
    "\n",
    "def number_of_students_within_range(a, b, mean, std_dev, total):\n",
    "    z_a = (a - mean) / std_dev\n",
    "    z_b = (b - mean) / std_dev\n",
    "    proportion = stats.norm.cdf(z_b) - stats.norm.cdf(z_a)\n",
    "    return proportion * total\n",
    "\n",
    "def number_of_students_beyond(x, mean, std_dev, total):\n",
    "    z = (x - mean) / std_dev\n",
    "    proportion = 1 - stats.norm.cdf(z)\n",
    "    return proportion * total\n",
    "\n",
    "# (a) Greater than 70 inches\n",
    "number_more_than_70 = number_of_students_beyond(70, mean, std_dev, total_students)\n",
    "print(f\"Number of students with height greater than 70 inches: {round(number_more_than_70)}\")\n",
    "\n",
    "# (b) Between 60 and 70 inches\n",
    "number_between_60_and_70 = number_of_students_within_range(60, 70, mean, std_dev, total_students)\n",
    "print(f\"Number of students with height between 60 and 70 inches: {round(number_between_60_and_70)}\")\n"
   ]
  },
  {
   "cell_type": "code",
   "execution_count": 21,
   "id": "6725a524-f1ce-4144-bab1-fef4f8e5168d",
   "metadata": {},
   "outputs": [
    {
     "name": "stdout",
     "output_type": "stream",
     "text": [
      "Chi-square test statistic: 17.63\n",
      "Critical value (lower): 12.40\n",
      "Critical value (upper): 39.36\n",
      "Fail to reject the null hypothesis\n"
     ]
    }
   ],
   "source": [
    "#34\n",
    "import scipy.stats as stats\n",
    "\n",
    "# Given values\n",
    "n = 25\n",
    "s = 9.0\n",
    "sigma = 10.5\n",
    "alpha = 0.05\n",
    "\n",
    "# Calculate the test statistic\n",
    "chi_squared_statistic = ((n - 1) * s**2) / sigma**2\n",
    "\n",
    "# Degrees of freedom\n",
    "df = n - 1\n",
    "\n",
    "# Critical values for a two-tailed test\n",
    "chi2_lower_critical = stats.chi2.ppf(alpha / 2, df)\n",
    "chi2_upper_critical = stats.chi2.ppf(1 - alpha / 2, df)\n",
    "\n",
    "# Output the results\n",
    "print(f\"Chi-square test statistic: {chi_squared_statistic:.2f}\")\n",
    "print(f\"Critical value (lower): {chi2_lower_critical:.2f}\")\n",
    "print(f\"Critical value (upper): {chi2_upper_critical:.2f}\")\n",
    "\n",
    "# Decision\n",
    "if chi_squared_statistic < chi2_lower_critical or chi_squared_statistic > chi2_upper_critical:\n",
    "    print(\"Reject the null hypothesis\")\n",
    "else:\n",
    "    print(\"Fail to reject the null hypothesis\")\n"
   ]
  },
  {
   "cell_type": "code",
   "execution_count": 23,
   "id": "e2e78476-1934-4fba-adc3-6e7f3c8dcfbc",
   "metadata": {},
   "outputs": [
    {
     "name": "stdout",
     "output_type": "stream",
     "text": [
      "Chi-square test statistic: 7.70\n",
      "Critical value (for alpha = 0.05): 9.49\n",
      "Fail to reject the null hypothesis\n"
     ]
    }
   ],
   "source": [
    "#37\n",
    "import scipy.stats as stats\n",
    "\n",
    "# Given values\n",
    "observed_frequencies = [15, 17, 30, 22, 16]\n",
    "total_students = 100\n",
    "num_grades = len(observed_frequencies)\n",
    "expected_frequency = total_students / num_grades\n",
    "\n",
    "# Calculate the expected frequencies\n",
    "expected_frequencies = [expected_frequency] * num_grades\n",
    "\n",
    "# Calculate the chi-square test statistic\n",
    "chi_squared_statistic = sum((o - e)**2 / e for o, e in zip(observed_frequencies, expected_frequencies))\n",
    "\n",
    "# Degrees of freedom\n",
    "df = num_grades - 1\n",
    "\n",
    "# Critical value for alpha = 0.05\n",
    "alpha = 0.05\n",
    "critical_value = stats.chi2.ppf(1 - alpha, df)\n",
    "\n",
    "# Output the results\n",
    "print(f\"Chi-square test statistic: {chi_squared_statistic:.2f}\")\n",
    "print(f\"Critical value (for alpha = 0.05): {critical_value:.2f}\")\n",
    "\n",
    "# Decision\n",
    "if chi_squared_statistic > critical_value:\n",
    "    print(\"Reject the null hypothesis\")\n",
    "else:\n",
    "    print(\"Fail to reject the null hypothesis\")\n"
   ]
  },
  {
   "cell_type": "code",
   "execution_count": 29,
   "id": "71b07908-cd33-438e-bf35-d50c92719824",
   "metadata": {},
   "outputs": [],
   "source": [
    "#38\n",
    "\n",
    "#incomplete qstn"
   ]
  },
  {
   "cell_type": "code",
   "execution_count": 39,
   "id": "98074f70-3f02-4e49-917a-64423f7732b9",
   "metadata": {},
   "outputs": [
    {
     "name": "stdout",
     "output_type": "stream",
     "text": [
      " * Serving Flask app '__main__'\n",
      " * Debug mode: on\n"
     ]
    },
    {
     "name": "stderr",
     "output_type": "stream",
     "text": [
      "WARNING: This is a development server. Do not use it in a production deployment. Use a production WSGI server instead.\n",
      " * Running on http://127.0.0.1:5000\n",
      "Press CTRL+C to quit\n",
      " * Restarting with watchdog (fsevents)\n",
      "0.00s - Debugger warning: It seems that frozen modules are being used, which may\n",
      "0.00s - make the debugger miss breakpoints. Please pass -Xfrozen_modules=off\n",
      "0.00s - to python to disable frozen modules.\n",
      "0.00s - Note: Debugging will proceed. Set PYDEVD_DISABLE_FILE_VALIDATION=1 to disable this validation.\n",
      "Traceback (most recent call last):\n",
      "  File \"<frozen runpy>\", line 198, in _run_module_as_main\n",
      "  File \"<frozen runpy>\", line 88, in _run_code\n",
      "  File \"/opt/anaconda3/lib/python3.12/site-packages/ipykernel_launcher.py\", line 17, in <module>\n",
      "    app.launch_new_instance()\n",
      "  File \"/opt/anaconda3/lib/python3.12/site-packages/traitlets/config/application.py\", line 1074, in launch_instance\n",
      "    app.initialize(argv)\n",
      "  File \"/opt/anaconda3/lib/python3.12/site-packages/traitlets/config/application.py\", line 118, in inner\n",
      "    return method(app, *args, **kwargs)\n",
      "           ^^^^^^^^^^^^^^^^^^^^^^^^^^^^\n",
      "  File \"/opt/anaconda3/lib/python3.12/site-packages/ipykernel/kernelapp.py\", line 654, in initialize\n",
      "    self.init_sockets()\n",
      "  File \"/opt/anaconda3/lib/python3.12/site-packages/ipykernel/kernelapp.py\", line 331, in init_sockets\n",
      "    self.shell_port = self._bind_socket(self.shell_socket, self.shell_port)\n",
      "                      ^^^^^^^^^^^^^^^^^^^^^^^^^^^^^^^^^^^^^^^^^^^^^^^^^^^^^\n",
      "  File \"/opt/anaconda3/lib/python3.12/site-packages/ipykernel/kernelapp.py\", line 253, in _bind_socket\n",
      "    return self._try_bind_socket(s, port)\n",
      "           ^^^^^^^^^^^^^^^^^^^^^^^^^^^^^^\n",
      "  File \"/opt/anaconda3/lib/python3.12/site-packages/ipykernel/kernelapp.py\", line 229, in _try_bind_socket\n",
      "    s.bind(\"tcp://%s:%i\" % (self.ip, port))\n",
      "  File \"/opt/anaconda3/lib/python3.12/site-packages/zmq/sugar/socket.py\", line 302, in bind\n",
      "    super().bind(addr)\n",
      "  File \"zmq/backend/cython/socket.pyx\", line 564, in zmq.backend.cython.socket.Socket.bind\n",
      "  File \"zmq/backend/cython/checkrc.pxd\", line 28, in zmq.backend.cython.checkrc._check_rc\n",
      "zmq.error.ZMQError: Address already in use (addr='tcp://127.0.0.1:64615')\n"
     ]
    },
    {
     "ename": "SystemExit",
     "evalue": "1",
     "output_type": "error",
     "traceback": [
      "An exception has occurred, use %tb to see the full traceback.\n",
      "\u001b[0;31mSystemExit\u001b[0m\u001b[0;31m:\u001b[0m 1\n"
     ]
    },
    {
     "name": "stderr",
     "output_type": "stream",
     "text": [
      "/opt/anaconda3/lib/python3.12/site-packages/IPython/core/interactiveshell.py:3585: UserWarning: To exit: use 'exit', 'quit', or Ctrl-D.\n",
      "  warn(\"To exit: use 'exit', 'quit', or Ctrl-D.\", stacklevel=1)\n"
     ]
    }
   ],
   "source": [
    "#39\n",
    "from flask import Flask\n",
    "app = Flask(__name__)\n",
    "def home():\n",
    "    return \"Hello, world\"\n",
    "if __name__ == '__main__':\n",
    "    app.run(debug=True)"
   ]
  },
  {
   "cell_type": "code",
   "execution_count": null,
   "id": "2f077346-4b70-4779-b84d-89f5482b43c2",
   "metadata": {},
   "outputs": [],
   "source": [
    "from flask import Flask\n",
    "\n",
    "app = Flask(__name__)\n",
    "\n",
    "@app.route('/greet/<name>')\n",
    "def greet(name):\n",
    "    return f\"Hello, {name}!\"\n",
    "\n",
    "if __name__ == '__main__':\n",
    "    app.run(debug=True)\n"
   ]
  },
  {
   "cell_type": "code",
   "execution_count": null,
   "id": "343f227a-7539-42da-ad7e-2d118199d0f0",
   "metadata": {},
   "outputs": [],
   "source": [
    "#42\n",
    "from flask import Flask, render_template, redirect, url_for, request\n",
    "from flask_login import LoginManager, UserMixin, login_user, login_required, logout_user, current_user\n",
    "from werkzeug.security import generate_password_hash, check_password_hash\n",
    "\n",
    "app = Flask(__name__)\n",
    "app.secret_key = 'supersecretkey'\n",
    "login_manager = LoginManager()\n",
    "login_manager.init_app(app)\n",
    "\n",
    "class User(UserMixin):\n",
    "    def __init__(self, id, password):\n",
    "        self.id = id\n",
    "        self.password = password\n",
    "\n",
    "users = {'user1': User('user1', generate_password_hash('password'))}\n",
    "\n",
    "@login_manager.user_loader\n",
    "def load_user(user_id):\n",
    "    return users.get(user_id)\n",
    "\n",
    "@app.route('/login', methods=['GET', 'POST'])\n",
    "def login():\n",
    "    if request.method == 'POST':\n",
    "        user_id = request.form['username']\n",
    "        password = request.form['password']\n",
    "        user = users.get(user_id)\n",
    "        if user and check_password_hash(user.password, password):\n",
    "            login_user(user)\n",
    "            return redirect(url_for('profile'))\n",
    "    return render_template('login.html')\n",
    "\n",
    "@app.route('/profile')\n",
    "@login_required\n",
    "def profile():\n",
    "    return f\"Welcome to your profile, {current_user.id}!\"\n",
    "\n",
    "@app.route('/logout')\n",
    "def logout():\n",
    "    logout_user()\n",
    "    return redirect(url_for('login'))\n",
    "\n",
    "if __name__ == '__main__':\n",
    "    app.run(debug=True)\n"
   ]
  },
  {
   "cell_type": "code",
   "execution_count": 43,
   "id": "0e8425e4-5ac3-4c14-a5e8-9b5806e67f28",
   "metadata": {},
   "outputs": [
    {
     "ename": "SyntaxError",
     "evalue": "invalid syntax (3781027280.py, line 2)",
     "output_type": "error",
     "traceback": [
      "\u001b[0;36m  Cell \u001b[0;32mIn[43], line 2\u001b[0;36m\u001b[0m\n\u001b[0;31m    pip install Flask-SQLAlchemy\u001b[0m\n\u001b[0m        ^\u001b[0m\n\u001b[0;31mSyntaxError\u001b[0m\u001b[0;31m:\u001b[0m invalid syntax\n"
     ]
    }
   ],
   "source": [
    "#43 \n",
    "pip install Flask-SQLAlchemy\n",
    "from flask import Flask, request, jsonify\n",
    "from flask_sqlalchemy import SQLAlchemy\n",
    "\n",
    "app = Flask(__name__)\n",
    "app.config['SQLALCHEMY_DATABASE_URI'] = 'sqlite:///example.db'\n",
    "db = SQLAlchemy(app)\n",
    "\n",
    "class User(db.Model):\n",
    "    id = db.Column(db.Integer, primary_key=True)\n",
    "    username = db.Column(db.String(80), unique=True, nullable=False)\n",
    "\n",
    "@app.route('/add_user', methods=['POST'])\n",
    "def add_user():\n",
    "    username = request.json['username']\n",
    "    new_user = User(username=username)\n",
    "    db.session.add(new_user)\n",
    "    db.session.commit()\n",
    "    return jsonify({\"message\": \"User added!\"}), 201\n",
    "\n",
    "if __name__ == '__main__':\n",
    "    db.create_all()  # Create tables\n",
    "    app.run(debug=True)\n"
   ]
  },
  {
   "cell_type": "code",
   "execution_count": null,
   "id": "c02f9db6-9742-4577-a806-dfd418137dda",
   "metadata": {},
   "outputs": [],
   "source": [
    "#44 To create a RESTful API endpoint that returns JSON data:\n",
    "\n",
    "\n",
    "from flask import Flask, jsonify\n",
    "\n",
    "app = Flask(__name__)\n",
    "\n",
    "@app.route('/api/data')\n",
    "def get_data():\n",
    "    data = {'key': 'value', 'number': 42}\n",
    "    return jsonify(data)\n",
    "\n",
    "if __name__ == '__main__':\n",
    "    app.run(debug=True)\n"
   ]
  },
  {
   "cell_type": "code",
   "execution_count": 45,
   "id": "24fa8557-5101-4e25-a4d1-f82c60eeb600",
   "metadata": {},
   "outputs": [
    {
     "ename": "SyntaxError",
     "evalue": "invalid syntax (2777213820.py, line 2)",
     "output_type": "error",
     "traceback": [
      "\u001b[0;36m  Cell \u001b[0;32mIn[45], line 2\u001b[0;36m\u001b[0m\n\u001b[0;31m    pip3 install Flask-WTF\u001b[0m\n\u001b[0m         ^\u001b[0m\n\u001b[0;31mSyntaxError\u001b[0m\u001b[0;31m:\u001b[0m invalid syntax\n"
     ]
    }
   ],
   "source": [
    "#45\n",
    "pip3 install Flask-WTF\n",
    "from flask import Flask, render_template, redirect, url_for\n",
    "from flask_wtf import FlaskForm\n",
    "from wtforms import StringField, SubmitField\n",
    "from wtforms.validators import DataRequired\n",
    "\n",
    "app = Flask(__name__)\n",
    "app.secret_key = 'secretkey'\n",
    "\n",
    "class MyForm(FlaskForm):\n",
    "    name = StringField('Name', validators=[DataRequired()])\n",
    "    submit = SubmitField('Submit')\n",
    "\n",
    "@app.route('/', methods=['GET', 'POST'])\n",
    "def index():\n",
    "    form = MyForm()\n",
    "    if form.validate_on_submit():\n",
    "        return redirect(url_for('success', name=form.name.data))\n",
    "    return render_template('form.html', form=form)\n",
    "\n",
    "@app.route('/success/<name>')\n",
    "def success(name):\n",
    "    return f\"Hello, {name}!\"\n",
    "\n",
    "if __name__ == '__main__':\n",
    "    app.run(debug=True)\n"
   ]
  },
  {
   "cell_type": "code",
   "execution_count": null,
   "id": "eb8da45f-17ae-48c1-982e-90093e78751b",
   "metadata": {},
   "outputs": [],
   "source": [
    "#46\n",
    "from flask import Flask, request, redirect, url_for\n",
    "import os\n",
    "\n",
    "app = Flask(__name__)\n",
    "app.config['UPLOAD_FOLDER'] = 'uploads/'\n",
    "app.config['MAX_CONTENT_LENGTH'] = 16 * 1024 * 1024  # 16 MB\n",
    "\n",
    "@app.route('/upload', methods=['GET', 'POST'])\n",
    "def upload_file():\n",
    "    if request.method == 'POST':\n",
    "        if 'file' not in request.files:\n",
    "            return redirect(request.url)\n",
    "        file = request.files['file']\n",
    "        if file.filename == '':\n",
    "            return redirect(request.url)\n",
    "        file.save(os.path.join(app.config['UPLOAD_FOLDER'], file.filename))\n",
    "        return 'File uploaded successfully!'\n",
    "    return '''\n",
    "    <!doctype html>\n",
    "    <title>Upload a File</title>\n",
    "    <h1>Upload a File</h1>\n",
    "    <form action=\"\" method=post enctype=multipart/form-data>\n",
    "      <input type=file name=file>\n",
    "      <input type=submit value=Upload>\n",
    "    </form>\n",
    "    '''\n",
    "\n",
    "if __name__ == '__main__':\n",
    "    app.run(debug=True)\n"
   ]
  },
  {
   "cell_type": "code",
   "execution_count": null,
   "id": "ae1fa355-3cae-43ca-8f1a-ec91b23d196f",
   "metadata": {},
   "outputs": [],
   "source": [
    "#47 Flask Blueprints \n",
    "# app/main/views.py\n",
    "from flask import Blueprint, render_template\n",
    "\n",
    "main = Blueprint('main', __name__)\n",
    "\n",
    "@main.route('/')\n",
    "def index():\n",
    "    return \"Welcome to the homepage!\"\n",
    "\n",
    "# app/__init__.py\n",
    "from flask import Flask\n",
    "from .main.views import main\n",
    "\n",
    "def create_app():\n",
    "    app = Flask(__name__)\n",
    "    app.register_blueprint(main)\n",
    "    return app\n",
    "\n",
    "# run.py\n",
    "from app import create_app\n",
    "\n",
    "app = create_app()\n",
    "\n",
    "if __name__ == '__main__':\n",
    "    app.run(debug=True)\n"
   ]
  },
  {
   "cell_type": "code",
   "execution_count": null,
   "id": "9c11a60a-6045-4936-8775-e5961832484f",
   "metadata": {},
   "outputs": [],
   "source": []
  }
 ],
 "metadata": {
  "kernelspec": {
   "display_name": "Python 3 (ipykernel)",
   "language": "python",
   "name": "python3"
  },
  "language_info": {
   "codemirror_mode": {
    "name": "ipython",
    "version": 3
   },
   "file_extension": ".py",
   "mimetype": "text/x-python",
   "name": "python",
   "nbconvert_exporter": "python",
   "pygments_lexer": "ipython3",
   "version": "3.12.4"
  }
 },
 "nbformat": 4,
 "nbformat_minor": 5
}
